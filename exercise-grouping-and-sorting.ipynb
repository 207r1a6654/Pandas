{
 "cells": [
  {
   "cell_type": "markdown",
   "id": "e670c518",
   "metadata": {
    "papermill": {
     "duration": 0.007133,
     "end_time": "2023-01-14T16:28:41.534750",
     "exception": false,
     "start_time": "2023-01-14T16:28:41.527617",
     "status": "completed"
    },
    "tags": []
   },
   "source": [
    "**This notebook is an exercise in the [Pandas](https://www.kaggle.com/learn/pandas) course.  You can reference the tutorial at [this link](https://www.kaggle.com/residentmario/grouping-and-sorting).**\n",
    "\n",
    "---\n"
   ]
  },
  {
   "cell_type": "markdown",
   "id": "b1db028c",
   "metadata": {
    "papermill": {
     "duration": 0.005713,
     "end_time": "2023-01-14T16:28:41.546530",
     "exception": false,
     "start_time": "2023-01-14T16:28:41.540817",
     "status": "completed"
    },
    "tags": []
   },
   "source": [
    "# Introduction\n",
    "\n",
    "In these exercises we'll apply groupwise analysis to our dataset.\n",
    "\n",
    "Run the code cell below to load the data before running the exercises."
   ]
  },
  {
   "cell_type": "code",
   "execution_count": 1,
   "id": "f1ba693e",
   "metadata": {
    "execution": {
     "iopub.execute_input": "2023-01-14T16:28:41.560846Z",
     "iopub.status.busy": "2023-01-14T16:28:41.560158Z",
     "iopub.status.idle": "2023-01-14T16:28:44.679746Z",
     "shell.execute_reply": "2023-01-14T16:28:44.678577Z"
    },
    "papermill": {
     "duration": 3.13032,
     "end_time": "2023-01-14T16:28:44.682809",
     "exception": false,
     "start_time": "2023-01-14T16:28:41.552489",
     "status": "completed"
    },
    "tags": []
   },
   "outputs": [
    {
     "name": "stdout",
     "output_type": "stream",
     "text": [
      "Setup complete.\n"
     ]
    }
   ],
   "source": [
    "import pandas as pd\n",
    "\n",
    "reviews = pd.read_csv(\"../input/wine-reviews/winemag-data-130k-v2.csv\", index_col=0)\n",
    "#pd.set_option(\"display.max_rows\", 5)\n",
    "\n",
    "from learntools.core import binder; binder.bind(globals())\n",
    "from learntools.pandas.grouping_and_sorting import *\n",
    "print(\"Setup complete.\")"
   ]
  },
  {
   "cell_type": "markdown",
   "id": "cc47a083",
   "metadata": {
    "papermill": {
     "duration": 0.006506,
     "end_time": "2023-01-14T16:28:44.695727",
     "exception": false,
     "start_time": "2023-01-14T16:28:44.689221",
     "status": "completed"
    },
    "tags": []
   },
   "source": [
    "# Exercises"
   ]
  },
  {
   "cell_type": "markdown",
   "id": "536fc7f1",
   "metadata": {
    "papermill": {
     "duration": 0.005809,
     "end_time": "2023-01-14T16:28:44.708096",
     "exception": false,
     "start_time": "2023-01-14T16:28:44.702287",
     "status": "completed"
    },
    "tags": []
   },
   "source": [
    "## 1.\n",
    "Who are the most common wine reviewers in the dataset? Create a `Series` whose index is the `taster_twitter_handle` category from the dataset, and whose values count how many reviews each person wrote."
   ]
  },
  {
   "cell_type": "code",
   "execution_count": 2,
   "id": "3391aa47",
   "metadata": {
    "execution": {
     "iopub.execute_input": "2023-01-14T16:28:44.722464Z",
     "iopub.status.busy": "2023-01-14T16:28:44.721760Z",
     "iopub.status.idle": "2023-01-14T16:28:44.745626Z",
     "shell.execute_reply": "2023-01-14T16:28:44.744350Z"
    },
    "papermill": {
     "duration": 0.033969,
     "end_time": "2023-01-14T16:28:44.748092",
     "exception": false,
     "start_time": "2023-01-14T16:28:44.714123",
     "status": "completed"
    },
    "tags": []
   },
   "outputs": [
    {
     "data": {
      "application/javascript": [
       "parent.postMessage({\"jupyterEvent\": \"custom.exercise_interaction\", \"data\": {\"outcomeType\": 1, \"valueTowardsCompletion\": 0.16666666666666666, \"interactionType\": 1, \"questionType\": 1, \"questionId\": \"1_ReviewsWritten\", \"learnToolsVersion\": \"0.3.4\", \"failureMessage\": \"\", \"exceptionClass\": \"\", \"trace\": \"\"}}, \"*\")"
      ],
      "text/plain": [
       "<IPython.core.display.Javascript object>"
      ]
     },
     "metadata": {},
     "output_type": "display_data"
    },
    {
     "data": {
      "text/markdown": [
       "<span style=\"color:#33cc33\">Correct:</span> \n",
       "\n",
       "\n",
       "```python\n",
       "reviews_written = reviews.groupby('taster_twitter_handle').size()\n",
       "```\n",
       "or\n",
       "```python\n",
       "reviews_written = reviews.groupby('taster_twitter_handle').taster_twitter_handle.count()\n",
       "```\n"
      ],
      "text/plain": [
       "Correct: \n",
       "\n",
       "\n",
       "```python\n",
       "reviews_written = reviews.groupby('taster_twitter_handle').size()\n",
       "```\n",
       "or\n",
       "```python\n",
       "reviews_written = reviews.groupby('taster_twitter_handle').taster_twitter_handle.count()\n",
       "```"
      ]
     },
     "metadata": {},
     "output_type": "display_data"
    }
   ],
   "source": [
    "# Your code here\n",
    "reviews_written = reviews.groupby('taster_twitter_handle').size()\n",
    "\n",
    "# Check your answer\n",
    "q1.check()"
   ]
  },
  {
   "cell_type": "code",
   "execution_count": 3,
   "id": "277c1b6b",
   "metadata": {
    "execution": {
     "iopub.execute_input": "2023-01-14T16:28:44.762644Z",
     "iopub.status.busy": "2023-01-14T16:28:44.762110Z",
     "iopub.status.idle": "2023-01-14T16:28:44.767024Z",
     "shell.execute_reply": "2023-01-14T16:28:44.765789Z"
    },
    "papermill": {
     "duration": 0.014985,
     "end_time": "2023-01-14T16:28:44.769540",
     "exception": false,
     "start_time": "2023-01-14T16:28:44.754555",
     "status": "completed"
    },
    "tags": []
   },
   "outputs": [],
   "source": [
    "#q1.hint()\n",
    "#q1.solution()"
   ]
  },
  {
   "cell_type": "markdown",
   "id": "798c0598",
   "metadata": {
    "papermill": {
     "duration": 0.007811,
     "end_time": "2023-01-14T16:28:44.785055",
     "exception": false,
     "start_time": "2023-01-14T16:28:44.777244",
     "status": "completed"
    },
    "tags": []
   },
   "source": [
    "## 2.\n",
    "What is the best wine I can buy for a given amount of money? Create a `Series` whose index is wine prices and whose values is the maximum number of points a wine costing that much was given in a review. Sort the values by price, ascending (so that `4.0` dollars is at the top and `3300.0` dollars is at the bottom)."
   ]
  },
  {
   "cell_type": "code",
   "execution_count": 4,
   "id": "aaed977b",
   "metadata": {
    "execution": {
     "iopub.execute_input": "2023-01-14T16:28:44.801403Z",
     "iopub.status.busy": "2023-01-14T16:28:44.800915Z",
     "iopub.status.idle": "2023-01-14T16:28:44.817138Z",
     "shell.execute_reply": "2023-01-14T16:28:44.815872Z"
    },
    "papermill": {
     "duration": 0.028415,
     "end_time": "2023-01-14T16:28:44.820262",
     "exception": false,
     "start_time": "2023-01-14T16:28:44.791847",
     "status": "completed"
    },
    "tags": []
   },
   "outputs": [
    {
     "data": {
      "application/javascript": [
       "parent.postMessage({\"jupyterEvent\": \"custom.exercise_interaction\", \"data\": {\"outcomeType\": 1, \"valueTowardsCompletion\": 0.16666666666666666, \"interactionType\": 1, \"questionType\": 1, \"questionId\": \"2_BestRatingPerPrice\", \"learnToolsVersion\": \"0.3.4\", \"failureMessage\": \"\", \"exceptionClass\": \"\", \"trace\": \"\"}}, \"*\")"
      ],
      "text/plain": [
       "<IPython.core.display.Javascript object>"
      ]
     },
     "metadata": {},
     "output_type": "display_data"
    },
    {
     "data": {
      "text/markdown": [
       "<span style=\"color:#33cc33\">Correct</span>"
      ],
      "text/plain": [
       "Correct"
      ]
     },
     "metadata": {},
     "output_type": "display_data"
    }
   ],
   "source": [
    "best_rating_per_price = reviews.groupby('price')['points'].max().sort_index()\n",
    "\n",
    "# Check your answer\n",
    "q2.check()"
   ]
  },
  {
   "cell_type": "code",
   "execution_count": 5,
   "id": "c2da9e98",
   "metadata": {
    "execution": {
     "iopub.execute_input": "2023-01-14T16:28:44.835691Z",
     "iopub.status.busy": "2023-01-14T16:28:44.835274Z",
     "iopub.status.idle": "2023-01-14T16:28:44.840728Z",
     "shell.execute_reply": "2023-01-14T16:28:44.839396Z"
    },
    "papermill": {
     "duration": 0.016298,
     "end_time": "2023-01-14T16:28:44.843273",
     "exception": false,
     "start_time": "2023-01-14T16:28:44.826975",
     "status": "completed"
    },
    "tags": []
   },
   "outputs": [],
   "source": [
    "#q2.hint()\n",
    "#q2.solution()"
   ]
  },
  {
   "cell_type": "markdown",
   "id": "44d966df",
   "metadata": {
    "papermill": {
     "duration": 0.006337,
     "end_time": "2023-01-14T16:28:44.856578",
     "exception": false,
     "start_time": "2023-01-14T16:28:44.850241",
     "status": "completed"
    },
    "tags": []
   },
   "source": [
    "## 3.\n",
    "What are the minimum and maximum prices for each `variety` of wine? Create a `DataFrame` whose index is the `variety` category from the dataset and whose values are the `min` and `max` values thereof."
   ]
  },
  {
   "cell_type": "code",
   "execution_count": 6,
   "id": "b7eec91a",
   "metadata": {
    "execution": {
     "iopub.execute_input": "2023-01-14T16:28:44.872074Z",
     "iopub.status.busy": "2023-01-14T16:28:44.871018Z",
     "iopub.status.idle": "2023-01-14T16:28:44.899751Z",
     "shell.execute_reply": "2023-01-14T16:28:44.898558Z"
    },
    "papermill": {
     "duration": 0.039275,
     "end_time": "2023-01-14T16:28:44.902474",
     "exception": false,
     "start_time": "2023-01-14T16:28:44.863199",
     "status": "completed"
    },
    "tags": []
   },
   "outputs": [
    {
     "data": {
      "application/javascript": [
       "parent.postMessage({\"jupyterEvent\": \"custom.exercise_interaction\", \"data\": {\"outcomeType\": 1, \"valueTowardsCompletion\": 0.16666666666666666, \"interactionType\": 1, \"questionType\": 1, \"questionId\": \"3_PriceExtremes\", \"learnToolsVersion\": \"0.3.4\", \"failureMessage\": \"\", \"exceptionClass\": \"\", \"trace\": \"\"}}, \"*\")"
      ],
      "text/plain": [
       "<IPython.core.display.Javascript object>"
      ]
     },
     "metadata": {},
     "output_type": "display_data"
    },
    {
     "data": {
      "text/markdown": [
       "<span style=\"color:#33cc33\">Correct</span>"
      ],
      "text/plain": [
       "Correct"
      ]
     },
     "metadata": {},
     "output_type": "display_data"
    }
   ],
   "source": [
    "price_extremes = reviews.groupby('variety').price.agg([min, max])\n",
    "\n",
    "# Check your answer\n",
    "q3.check()"
   ]
  },
  {
   "cell_type": "code",
   "execution_count": 7,
   "id": "712324d8",
   "metadata": {
    "execution": {
     "iopub.execute_input": "2023-01-14T16:28:44.919037Z",
     "iopub.status.busy": "2023-01-14T16:28:44.918627Z",
     "iopub.status.idle": "2023-01-14T16:28:44.923714Z",
     "shell.execute_reply": "2023-01-14T16:28:44.922261Z"
    },
    "papermill": {
     "duration": 0.016204,
     "end_time": "2023-01-14T16:28:44.926295",
     "exception": false,
     "start_time": "2023-01-14T16:28:44.910091",
     "status": "completed"
    },
    "tags": []
   },
   "outputs": [],
   "source": [
    "#q3.hint()\n",
    "#q3.solution()"
   ]
  },
  {
   "cell_type": "markdown",
   "id": "7729472b",
   "metadata": {
    "papermill": {
     "duration": 0.00634,
     "end_time": "2023-01-14T16:28:44.939530",
     "exception": false,
     "start_time": "2023-01-14T16:28:44.933190",
     "status": "completed"
    },
    "tags": []
   },
   "source": [
    "## 4.\n",
    "What are the most expensive wine varieties? Create a variable `sorted_varieties` containing a copy of the dataframe from the previous question where varieties are sorted in descending order based on minimum price, then on maximum price (to break ties)."
   ]
  },
  {
   "cell_type": "code",
   "execution_count": 8,
   "id": "67ad8c70",
   "metadata": {
    "execution": {
     "iopub.execute_input": "2023-01-14T16:28:44.955023Z",
     "iopub.status.busy": "2023-01-14T16:28:44.954559Z",
     "iopub.status.idle": "2023-01-14T16:28:44.966422Z",
     "shell.execute_reply": "2023-01-14T16:28:44.965467Z"
    },
    "papermill": {
     "duration": 0.022445,
     "end_time": "2023-01-14T16:28:44.968729",
     "exception": false,
     "start_time": "2023-01-14T16:28:44.946284",
     "status": "completed"
    },
    "tags": []
   },
   "outputs": [
    {
     "data": {
      "application/javascript": [
       "parent.postMessage({\"jupyterEvent\": \"custom.exercise_interaction\", \"data\": {\"outcomeType\": 1, \"valueTowardsCompletion\": 0.16666666666666666, \"interactionType\": 1, \"questionType\": 1, \"questionId\": \"4_SortedVarieties\", \"learnToolsVersion\": \"0.3.4\", \"failureMessage\": \"\", \"exceptionClass\": \"\", \"trace\": \"\"}}, \"*\")"
      ],
      "text/plain": [
       "<IPython.core.display.Javascript object>"
      ]
     },
     "metadata": {},
     "output_type": "display_data"
    },
    {
     "data": {
      "text/markdown": [
       "<span style=\"color:#33cc33\">Correct</span>"
      ],
      "text/plain": [
       "Correct"
      ]
     },
     "metadata": {},
     "output_type": "display_data"
    }
   ],
   "source": [
    "sorted_varieties = price_extremes.sort_values(by=['min', 'max'], ascending=False)\n",
    "\n",
    "# Check your answer\n",
    "q4.check()"
   ]
  },
  {
   "cell_type": "code",
   "execution_count": 9,
   "id": "282c0d11",
   "metadata": {
    "execution": {
     "iopub.execute_input": "2023-01-14T16:28:44.984741Z",
     "iopub.status.busy": "2023-01-14T16:28:44.984141Z",
     "iopub.status.idle": "2023-01-14T16:28:44.989007Z",
     "shell.execute_reply": "2023-01-14T16:28:44.987700Z"
    },
    "papermill": {
     "duration": 0.015869,
     "end_time": "2023-01-14T16:28:44.991546",
     "exception": false,
     "start_time": "2023-01-14T16:28:44.975677",
     "status": "completed"
    },
    "tags": []
   },
   "outputs": [],
   "source": [
    "#q4.hint()\n",
    "#q4.solution()"
   ]
  },
  {
   "cell_type": "markdown",
   "id": "63b4b052",
   "metadata": {
    "papermill": {
     "duration": 0.006572,
     "end_time": "2023-01-14T16:28:45.005076",
     "exception": false,
     "start_time": "2023-01-14T16:28:44.998504",
     "status": "completed"
    },
    "tags": []
   },
   "source": [
    "## 5.\n",
    "Create a `Series` whose index is reviewers and whose values is the average review score given out by that reviewer. Hint: you will need the `taster_name` and `points` columns."
   ]
  },
  {
   "cell_type": "code",
   "execution_count": 10,
   "id": "7368a58b",
   "metadata": {
    "execution": {
     "iopub.execute_input": "2023-01-14T16:28:45.021901Z",
     "iopub.status.busy": "2023-01-14T16:28:45.021475Z",
     "iopub.status.idle": "2023-01-14T16:28:45.043433Z",
     "shell.execute_reply": "2023-01-14T16:28:45.042254Z"
    },
    "papermill": {
     "duration": 0.03373,
     "end_time": "2023-01-14T16:28:45.046256",
     "exception": false,
     "start_time": "2023-01-14T16:28:45.012526",
     "status": "completed"
    },
    "tags": []
   },
   "outputs": [
    {
     "data": {
      "application/javascript": [
       "parent.postMessage({\"jupyterEvent\": \"custom.exercise_interaction\", \"data\": {\"outcomeType\": 1, \"valueTowardsCompletion\": 0.16666666666666666, \"interactionType\": 1, \"questionType\": 1, \"questionId\": \"5_ReviewerMeanRatings\", \"learnToolsVersion\": \"0.3.4\", \"failureMessage\": \"\", \"exceptionClass\": \"\", \"trace\": \"\"}}, \"*\")"
      ],
      "text/plain": [
       "<IPython.core.display.Javascript object>"
      ]
     },
     "metadata": {},
     "output_type": "display_data"
    },
    {
     "data": {
      "text/markdown": [
       "<span style=\"color:#33cc33\">Correct</span>"
      ],
      "text/plain": [
       "Correct"
      ]
     },
     "metadata": {},
     "output_type": "display_data"
    }
   ],
   "source": [
    "reviewer_mean_ratings = reviews.groupby('taster_name').points.mean()\n",
    "\n",
    "# Check your answer\n",
    "q5.check()"
   ]
  },
  {
   "cell_type": "code",
   "execution_count": 11,
   "id": "5cfc6436",
   "metadata": {
    "execution": {
     "iopub.execute_input": "2023-01-14T16:28:45.063816Z",
     "iopub.status.busy": "2023-01-14T16:28:45.063411Z",
     "iopub.status.idle": "2023-01-14T16:28:45.068295Z",
     "shell.execute_reply": "2023-01-14T16:28:45.067038Z"
    },
    "papermill": {
     "duration": 0.01669,
     "end_time": "2023-01-14T16:28:45.070909",
     "exception": false,
     "start_time": "2023-01-14T16:28:45.054219",
     "status": "completed"
    },
    "tags": []
   },
   "outputs": [],
   "source": [
    "#q5.hint()\n",
    "#q5.solution()"
   ]
  },
  {
   "cell_type": "markdown",
   "id": "68b6421e",
   "metadata": {
    "papermill": {
     "duration": 0.006895,
     "end_time": "2023-01-14T16:28:45.085391",
     "exception": false,
     "start_time": "2023-01-14T16:28:45.078496",
     "status": "completed"
    },
    "tags": []
   },
   "source": [
    "Are there significant differences in the average scores assigned by the various reviewers? Run the cell below to use the `describe()` method to see a summary of the range of values."
   ]
  },
  {
   "cell_type": "code",
   "execution_count": 12,
   "id": "cde7b195",
   "metadata": {
    "execution": {
     "iopub.execute_input": "2023-01-14T16:28:45.101714Z",
     "iopub.status.busy": "2023-01-14T16:28:45.101286Z",
     "iopub.status.idle": "2023-01-14T16:28:45.114853Z",
     "shell.execute_reply": "2023-01-14T16:28:45.113432Z"
    },
    "papermill": {
     "duration": 0.024907,
     "end_time": "2023-01-14T16:28:45.117471",
     "exception": false,
     "start_time": "2023-01-14T16:28:45.092564",
     "status": "completed"
    },
    "tags": []
   },
   "outputs": [
    {
     "data": {
      "text/plain": [
       "count    19.000000\n",
       "mean     88.233026\n",
       "std       1.243610\n",
       "min      85.855422\n",
       "25%      87.323501\n",
       "50%      88.536235\n",
       "75%      88.975256\n",
       "max      90.562551\n",
       "Name: points, dtype: float64"
      ]
     },
     "execution_count": 12,
     "metadata": {},
     "output_type": "execute_result"
    }
   ],
   "source": [
    "reviewer_mean_ratings.describe()"
   ]
  },
  {
   "cell_type": "markdown",
   "id": "2664f889",
   "metadata": {
    "papermill": {
     "duration": 0.006899,
     "end_time": "2023-01-14T16:28:45.131839",
     "exception": false,
     "start_time": "2023-01-14T16:28:45.124940",
     "status": "completed"
    },
    "tags": []
   },
   "source": [
    "## 6.\n",
    "What combination of countries and varieties are most common? Create a `Series` whose index is a `MultiIndex`of `{country, variety}` pairs. For example, a pinot noir produced in the US should map to `{\"US\", \"Pinot Noir\"}`. Sort the values in the `Series` in descending order based on wine count."
   ]
  },
  {
   "cell_type": "code",
   "execution_count": 13,
   "id": "3424f8a8",
   "metadata": {
    "execution": {
     "iopub.execute_input": "2023-01-14T16:28:45.148353Z",
     "iopub.status.busy": "2023-01-14T16:28:45.147913Z",
     "iopub.status.idle": "2023-01-14T16:28:45.184841Z",
     "shell.execute_reply": "2023-01-14T16:28:45.183781Z"
    },
    "papermill": {
     "duration": 0.048513,
     "end_time": "2023-01-14T16:28:45.187572",
     "exception": false,
     "start_time": "2023-01-14T16:28:45.139059",
     "status": "completed"
    },
    "tags": []
   },
   "outputs": [
    {
     "data": {
      "application/javascript": [
       "parent.postMessage({\"jupyterEvent\": \"custom.exercise_interaction\", \"data\": {\"outcomeType\": 1, \"valueTowardsCompletion\": 0.16666666666666666, \"interactionType\": 1, \"questionType\": 1, \"questionId\": \"6_GroupbyCountryVariety\", \"learnToolsVersion\": \"0.3.4\", \"failureMessage\": \"\", \"exceptionClass\": \"\", \"trace\": \"\"}}, \"*\")"
      ],
      "text/plain": [
       "<IPython.core.display.Javascript object>"
      ]
     },
     "metadata": {},
     "output_type": "display_data"
    },
    {
     "data": {
      "text/markdown": [
       "<span style=\"color:#33cc33\">Correct</span>"
      ],
      "text/plain": [
       "Correct"
      ]
     },
     "metadata": {},
     "output_type": "display_data"
    }
   ],
   "source": [
    "country_variety_counts =reviews.groupby(['country', 'variety']).size().sort_values(ascending=False) \n",
    "\n",
    "# Check your answer\n",
    "q6.check()"
   ]
  },
  {
   "cell_type": "code",
   "execution_count": 14,
   "id": "1e537448",
   "metadata": {
    "execution": {
     "iopub.execute_input": "2023-01-14T16:28:45.204924Z",
     "iopub.status.busy": "2023-01-14T16:28:45.204470Z",
     "iopub.status.idle": "2023-01-14T16:28:45.209691Z",
     "shell.execute_reply": "2023-01-14T16:28:45.208293Z"
    },
    "papermill": {
     "duration": 0.017055,
     "end_time": "2023-01-14T16:28:45.212421",
     "exception": false,
     "start_time": "2023-01-14T16:28:45.195366",
     "status": "completed"
    },
    "tags": []
   },
   "outputs": [],
   "source": [
    "#q6.hint()\n",
    "#q6.solution()"
   ]
  },
  {
   "cell_type": "markdown",
   "id": "fe88c620",
   "metadata": {
    "papermill": {
     "duration": 0.007224,
     "end_time": "2023-01-14T16:28:45.227379",
     "exception": false,
     "start_time": "2023-01-14T16:28:45.220155",
     "status": "completed"
    },
    "tags": []
   },
   "source": [
    "# Keep going\n",
    "\n",
    "Move on to the [**data types and missing data**](https://www.kaggle.com/residentmario/data-types-and-missing-values)."
   ]
  },
  {
   "cell_type": "markdown",
   "id": "27989aac",
   "metadata": {
    "papermill": {
     "duration": 0.007362,
     "end_time": "2023-01-14T16:28:45.242417",
     "exception": false,
     "start_time": "2023-01-14T16:28:45.235055",
     "status": "completed"
    },
    "tags": []
   },
   "source": [
    "---\n",
    "\n",
    "\n",
    "\n",
    "\n",
    "*Have questions or comments? Visit the [course discussion forum](https://www.kaggle.com/learn/pandas/discussion) to chat with other learners.*"
   ]
  }
 ],
 "metadata": {
  "kernelspec": {
   "display_name": "Python 3",
   "language": "python",
   "name": "python3"
  },
  "language_info": {
   "codemirror_mode": {
    "name": "ipython",
    "version": 3
   },
   "file_extension": ".py",
   "mimetype": "text/x-python",
   "name": "python",
   "nbconvert_exporter": "python",
   "pygments_lexer": "ipython3",
   "version": "3.7.12"
  },
  "papermill": {
   "default_parameters": {},
   "duration": 14.455652,
   "end_time": "2023-01-14T16:28:45.973379",
   "environment_variables": {},
   "exception": null,
   "input_path": "__notebook__.ipynb",
   "output_path": "__notebook__.ipynb",
   "parameters": {},
   "start_time": "2023-01-14T16:28:31.517727",
   "version": "2.3.4"
  }
 },
 "nbformat": 4,
 "nbformat_minor": 5
}
