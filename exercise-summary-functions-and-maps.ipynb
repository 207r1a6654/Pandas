{
 "cells": [
  {
   "cell_type": "markdown",
   "id": "af5e17a4",
   "metadata": {
    "papermill": {
     "duration": 0.009935,
     "end_time": "2023-01-14T16:05:26.957036",
     "exception": false,
     "start_time": "2023-01-14T16:05:26.947101",
     "status": "completed"
    },
    "tags": []
   },
   "source": [
    "**This notebook is an exercise in the [Pandas](https://www.kaggle.com/learn/pandas) course.  You can reference the tutorial at [this link](https://www.kaggle.com/residentmario/summary-functions-and-maps).**\n",
    "\n",
    "---\n"
   ]
  },
  {
   "cell_type": "markdown",
   "id": "0ef3ad34",
   "metadata": {
    "papermill": {
     "duration": 0.006429,
     "end_time": "2023-01-14T16:05:26.970475",
     "exception": false,
     "start_time": "2023-01-14T16:05:26.964046",
     "status": "completed"
    },
    "tags": []
   },
   "source": [
    "# Introduction\n",
    "\n",
    "Now you are ready to get a deeper understanding of your data.\n",
    "\n",
    "Run the following cell to load your data and some utility functions (including code to check your answers)."
   ]
  },
  {
   "cell_type": "code",
   "execution_count": 1,
   "id": "5626244f",
   "metadata": {
    "execution": {
     "iopub.execute_input": "2023-01-14T16:05:26.985978Z",
     "iopub.status.busy": "2023-01-14T16:05:26.985063Z",
     "iopub.status.idle": "2023-01-14T16:05:34.146844Z",
     "shell.execute_reply": "2023-01-14T16:05:34.145835Z"
    },
    "papermill": {
     "duration": 7.174437,
     "end_time": "2023-01-14T16:05:34.151385",
     "exception": false,
     "start_time": "2023-01-14T16:05:26.976948",
     "status": "completed"
    },
    "tags": []
   },
   "outputs": [
    {
     "name": "stdout",
     "output_type": "stream",
     "text": [
      "Setup complete.\n"
     ]
    },
    {
     "data": {
      "text/html": [
       "<div>\n",
       "<style scoped>\n",
       "    .dataframe tbody tr th:only-of-type {\n",
       "        vertical-align: middle;\n",
       "    }\n",
       "\n",
       "    .dataframe tbody tr th {\n",
       "        vertical-align: top;\n",
       "    }\n",
       "\n",
       "    .dataframe thead th {\n",
       "        text-align: right;\n",
       "    }\n",
       "</style>\n",
       "<table border=\"1\" class=\"dataframe\">\n",
       "  <thead>\n",
       "    <tr style=\"text-align: right;\">\n",
       "      <th></th>\n",
       "      <th>country</th>\n",
       "      <th>description</th>\n",
       "      <th>designation</th>\n",
       "      <th>points</th>\n",
       "      <th>price</th>\n",
       "      <th>province</th>\n",
       "      <th>region_1</th>\n",
       "      <th>region_2</th>\n",
       "      <th>taster_name</th>\n",
       "      <th>taster_twitter_handle</th>\n",
       "      <th>title</th>\n",
       "      <th>variety</th>\n",
       "      <th>winery</th>\n",
       "    </tr>\n",
       "  </thead>\n",
       "  <tbody>\n",
       "    <tr>\n",
       "      <th>0</th>\n",
       "      <td>Italy</td>\n",
       "      <td>Aromas include tropical fruit, broom, brimston...</td>\n",
       "      <td>Vulkà Bianco</td>\n",
       "      <td>87</td>\n",
       "      <td>NaN</td>\n",
       "      <td>Sicily &amp; Sardinia</td>\n",
       "      <td>Etna</td>\n",
       "      <td>NaN</td>\n",
       "      <td>Kerin O’Keefe</td>\n",
       "      <td>@kerinokeefe</td>\n",
       "      <td>Nicosia 2013 Vulkà Bianco  (Etna)</td>\n",
       "      <td>White Blend</td>\n",
       "      <td>Nicosia</td>\n",
       "    </tr>\n",
       "    <tr>\n",
       "      <th>1</th>\n",
       "      <td>Portugal</td>\n",
       "      <td>This is ripe and fruity, a wine that is smooth...</td>\n",
       "      <td>Avidagos</td>\n",
       "      <td>87</td>\n",
       "      <td>15.0</td>\n",
       "      <td>Douro</td>\n",
       "      <td>NaN</td>\n",
       "      <td>NaN</td>\n",
       "      <td>Roger Voss</td>\n",
       "      <td>@vossroger</td>\n",
       "      <td>Quinta dos Avidagos 2011 Avidagos Red (Douro)</td>\n",
       "      <td>Portuguese Red</td>\n",
       "      <td>Quinta dos Avidagos</td>\n",
       "    </tr>\n",
       "    <tr>\n",
       "      <th>2</th>\n",
       "      <td>US</td>\n",
       "      <td>Tart and snappy, the flavors of lime flesh and...</td>\n",
       "      <td>NaN</td>\n",
       "      <td>87</td>\n",
       "      <td>14.0</td>\n",
       "      <td>Oregon</td>\n",
       "      <td>Willamette Valley</td>\n",
       "      <td>Willamette Valley</td>\n",
       "      <td>Paul Gregutt</td>\n",
       "      <td>@paulgwine</td>\n",
       "      <td>Rainstorm 2013 Pinot Gris (Willamette Valley)</td>\n",
       "      <td>Pinot Gris</td>\n",
       "      <td>Rainstorm</td>\n",
       "    </tr>\n",
       "    <tr>\n",
       "      <th>3</th>\n",
       "      <td>US</td>\n",
       "      <td>Pineapple rind, lemon pith and orange blossom ...</td>\n",
       "      <td>Reserve Late Harvest</td>\n",
       "      <td>87</td>\n",
       "      <td>13.0</td>\n",
       "      <td>Michigan</td>\n",
       "      <td>Lake Michigan Shore</td>\n",
       "      <td>NaN</td>\n",
       "      <td>Alexander Peartree</td>\n",
       "      <td>NaN</td>\n",
       "      <td>St. Julian 2013 Reserve Late Harvest Riesling ...</td>\n",
       "      <td>Riesling</td>\n",
       "      <td>St. Julian</td>\n",
       "    </tr>\n",
       "    <tr>\n",
       "      <th>4</th>\n",
       "      <td>US</td>\n",
       "      <td>Much like the regular bottling from 2012, this...</td>\n",
       "      <td>Vintner's Reserve Wild Child Block</td>\n",
       "      <td>87</td>\n",
       "      <td>65.0</td>\n",
       "      <td>Oregon</td>\n",
       "      <td>Willamette Valley</td>\n",
       "      <td>Willamette Valley</td>\n",
       "      <td>Paul Gregutt</td>\n",
       "      <td>@paulgwine</td>\n",
       "      <td>Sweet Cheeks 2012 Vintner's Reserve Wild Child...</td>\n",
       "      <td>Pinot Noir</td>\n",
       "      <td>Sweet Cheeks</td>\n",
       "    </tr>\n",
       "  </tbody>\n",
       "</table>\n",
       "</div>"
      ],
      "text/plain": [
       "    country                                        description  \\\n",
       "0     Italy  Aromas include tropical fruit, broom, brimston...   \n",
       "1  Portugal  This is ripe and fruity, a wine that is smooth...   \n",
       "2        US  Tart and snappy, the flavors of lime flesh and...   \n",
       "3        US  Pineapple rind, lemon pith and orange blossom ...   \n",
       "4        US  Much like the regular bottling from 2012, this...   \n",
       "\n",
       "                          designation  points  price           province  \\\n",
       "0                        Vulkà Bianco      87    NaN  Sicily & Sardinia   \n",
       "1                            Avidagos      87   15.0              Douro   \n",
       "2                                 NaN      87   14.0             Oregon   \n",
       "3                Reserve Late Harvest      87   13.0           Michigan   \n",
       "4  Vintner's Reserve Wild Child Block      87   65.0             Oregon   \n",
       "\n",
       "              region_1           region_2         taster_name  \\\n",
       "0                 Etna                NaN       Kerin O’Keefe   \n",
       "1                  NaN                NaN          Roger Voss   \n",
       "2    Willamette Valley  Willamette Valley        Paul Gregutt   \n",
       "3  Lake Michigan Shore                NaN  Alexander Peartree   \n",
       "4    Willamette Valley  Willamette Valley        Paul Gregutt   \n",
       "\n",
       "  taster_twitter_handle                                              title  \\\n",
       "0          @kerinokeefe                  Nicosia 2013 Vulkà Bianco  (Etna)   \n",
       "1            @vossroger      Quinta dos Avidagos 2011 Avidagos Red (Douro)   \n",
       "2           @paulgwine       Rainstorm 2013 Pinot Gris (Willamette Valley)   \n",
       "3                   NaN  St. Julian 2013 Reserve Late Harvest Riesling ...   \n",
       "4           @paulgwine   Sweet Cheeks 2012 Vintner's Reserve Wild Child...   \n",
       "\n",
       "          variety               winery  \n",
       "0     White Blend              Nicosia  \n",
       "1  Portuguese Red  Quinta dos Avidagos  \n",
       "2      Pinot Gris            Rainstorm  \n",
       "3        Riesling           St. Julian  \n",
       "4      Pinot Noir         Sweet Cheeks  "
      ]
     },
     "execution_count": 1,
     "metadata": {},
     "output_type": "execute_result"
    }
   ],
   "source": [
    "import pandas as pd\n",
    "pd.set_option(\"display.max_rows\", 5)\n",
    "reviews = pd.read_csv(\"../input/wine-reviews/winemag-data-130k-v2.csv\", index_col=0)\n",
    "\n",
    "from learntools.core import binder; binder.bind(globals())\n",
    "from learntools.pandas.summary_functions_and_maps import *\n",
    "print(\"Setup complete.\")\n",
    "\n",
    "reviews.head()"
   ]
  },
  {
   "cell_type": "markdown",
   "id": "67691b67",
   "metadata": {
    "papermill": {
     "duration": 0.006344,
     "end_time": "2023-01-14T16:05:34.164738",
     "exception": false,
     "start_time": "2023-01-14T16:05:34.158394",
     "status": "completed"
    },
    "tags": []
   },
   "source": [
    "# Exercises"
   ]
  },
  {
   "cell_type": "markdown",
   "id": "d0b5babe",
   "metadata": {
    "papermill": {
     "duration": 0.006331,
     "end_time": "2023-01-14T16:05:34.177590",
     "exception": false,
     "start_time": "2023-01-14T16:05:34.171259",
     "status": "completed"
    },
    "tags": []
   },
   "source": [
    "## 1.\n",
    "\n",
    "What is the median of the `points` column in the `reviews` DataFrame?"
   ]
  },
  {
   "cell_type": "code",
   "execution_count": 2,
   "id": "795e9efa",
   "metadata": {
    "execution": {
     "iopub.execute_input": "2023-01-14T16:05:34.193032Z",
     "iopub.status.busy": "2023-01-14T16:05:34.192326Z",
     "iopub.status.idle": "2023-01-14T16:05:34.204620Z",
     "shell.execute_reply": "2023-01-14T16:05:34.203381Z"
    },
    "papermill": {
     "duration": 0.023158,
     "end_time": "2023-01-14T16:05:34.207298",
     "exception": false,
     "start_time": "2023-01-14T16:05:34.184140",
     "status": "completed"
    },
    "tags": []
   },
   "outputs": [
    {
     "data": {
      "application/javascript": [
       "parent.postMessage({\"jupyterEvent\": \"custom.exercise_interaction\", \"data\": {\"outcomeType\": 1, \"valueTowardsCompletion\": 0.14285714285714285, \"interactionType\": 1, \"questionType\": 1, \"questionId\": \"1_MedianPoints\", \"learnToolsVersion\": \"0.3.4\", \"failureMessage\": \"\", \"exceptionClass\": \"\", \"trace\": \"\"}}, \"*\")"
      ],
      "text/plain": [
       "<IPython.core.display.Javascript object>"
      ]
     },
     "metadata": {},
     "output_type": "display_data"
    },
    {
     "data": {
      "text/markdown": [
       "<span style=\"color:#33cc33\">Correct</span>"
      ],
      "text/plain": [
       "Correct"
      ]
     },
     "metadata": {},
     "output_type": "display_data"
    }
   ],
   "source": [
    "median_points=reviews.points.median()\n",
    "q1.check()"
   ]
  },
  {
   "cell_type": "markdown",
   "id": "904da052",
   "metadata": {
    "papermill": {
     "duration": 0.006487,
     "end_time": "2023-01-14T16:05:34.220634",
     "exception": false,
     "start_time": "2023-01-14T16:05:34.214147",
     "status": "completed"
    },
    "tags": []
   },
   "source": [
    "median_points = reviews.points.\n",
    "\n",
    "# Check your answer\n",
    "q1.check()"
   ]
  },
  {
   "cell_type": "code",
   "execution_count": 3,
   "id": "face17cf",
   "metadata": {
    "execution": {
     "iopub.execute_input": "2023-01-14T16:05:34.238529Z",
     "iopub.status.busy": "2023-01-14T16:05:34.237891Z",
     "iopub.status.idle": "2023-01-14T16:05:34.242536Z",
     "shell.execute_reply": "2023-01-14T16:05:34.241449Z"
    },
    "papermill": {
     "duration": 0.01734,
     "end_time": "2023-01-14T16:05:34.244979",
     "exception": false,
     "start_time": "2023-01-14T16:05:34.227639",
     "status": "completed"
    },
    "tags": []
   },
   "outputs": [],
   "source": [
    "#q1.hint()\n",
    "#q1.solution()"
   ]
  },
  {
   "cell_type": "markdown",
   "id": "8cdf7c71",
   "metadata": {
    "papermill": {
     "duration": 0.006472,
     "end_time": "2023-01-14T16:05:34.258408",
     "exception": false,
     "start_time": "2023-01-14T16:05:34.251936",
     "status": "completed"
    },
    "tags": []
   },
   "source": [
    "## 2. \n",
    "What countries are represented in the dataset? (Your answer should not include any duplicates.)"
   ]
  },
  {
   "cell_type": "code",
   "execution_count": 4,
   "id": "521a6220",
   "metadata": {
    "execution": {
     "iopub.execute_input": "2023-01-14T16:05:34.275318Z",
     "iopub.status.busy": "2023-01-14T16:05:34.274616Z",
     "iopub.status.idle": "2023-01-14T16:05:34.292426Z",
     "shell.execute_reply": "2023-01-14T16:05:34.291301Z"
    },
    "papermill": {
     "duration": 0.028754,
     "end_time": "2023-01-14T16:05:34.294623",
     "exception": false,
     "start_time": "2023-01-14T16:05:34.265869",
     "status": "completed"
    },
    "tags": []
   },
   "outputs": [
    {
     "data": {
      "application/javascript": [
       "parent.postMessage({\"jupyterEvent\": \"custom.exercise_interaction\", \"data\": {\"outcomeType\": 1, \"valueTowardsCompletion\": 0.14285714285714285, \"interactionType\": 1, \"questionType\": 2, \"questionId\": \"2_UniqueCountries\", \"learnToolsVersion\": \"0.3.4\", \"failureMessage\": \"\", \"exceptionClass\": \"\", \"trace\": \"\"}}, \"*\")"
      ],
      "text/plain": [
       "<IPython.core.display.Javascript object>"
      ]
     },
     "metadata": {},
     "output_type": "display_data"
    },
    {
     "data": {
      "text/markdown": [
       "<span style=\"color:#33cc33\">Correct</span>"
      ],
      "text/plain": [
       "Correct"
      ]
     },
     "metadata": {},
     "output_type": "display_data"
    }
   ],
   "source": [
    "countries = reviews.country.unique()\n",
    "# Check your answer\n",
    "q2.check()"
   ]
  },
  {
   "cell_type": "code",
   "execution_count": 5,
   "id": "825bb560",
   "metadata": {
    "execution": {
     "iopub.execute_input": "2023-01-14T16:05:34.311512Z",
     "iopub.status.busy": "2023-01-14T16:05:34.310510Z",
     "iopub.status.idle": "2023-01-14T16:05:34.315631Z",
     "shell.execute_reply": "2023-01-14T16:05:34.314397Z"
    },
    "papermill": {
     "duration": 0.016013,
     "end_time": "2023-01-14T16:05:34.318091",
     "exception": false,
     "start_time": "2023-01-14T16:05:34.302078",
     "status": "completed"
    },
    "tags": []
   },
   "outputs": [],
   "source": [
    "#q2.hint()\n",
    "#q2.solution()"
   ]
  },
  {
   "cell_type": "markdown",
   "id": "3dfd3e9b",
   "metadata": {
    "papermill": {
     "duration": 0.007187,
     "end_time": "2023-01-14T16:05:34.332967",
     "exception": false,
     "start_time": "2023-01-14T16:05:34.325780",
     "status": "completed"
    },
    "tags": []
   },
   "source": [
    "## 3.\n",
    "How often does each country appear in the dataset? Create a Series `reviews_per_country` mapping countries to the count of reviews of wines from that country."
   ]
  },
  {
   "cell_type": "code",
   "execution_count": 6,
   "id": "9bafaefc",
   "metadata": {
    "execution": {
     "iopub.execute_input": "2023-01-14T16:05:34.349135Z",
     "iopub.status.busy": "2023-01-14T16:05:34.348709Z",
     "iopub.status.idle": "2023-01-14T16:05:34.367008Z",
     "shell.execute_reply": "2023-01-14T16:05:34.365924Z"
    },
    "papermill": {
     "duration": 0.030486,
     "end_time": "2023-01-14T16:05:34.370524",
     "exception": false,
     "start_time": "2023-01-14T16:05:34.340038",
     "status": "completed"
    },
    "tags": []
   },
   "outputs": [
    {
     "data": {
      "application/javascript": [
       "parent.postMessage({\"jupyterEvent\": \"custom.exercise_interaction\", \"data\": {\"outcomeType\": 1, \"valueTowardsCompletion\": 0.14285714285714285, \"interactionType\": 1, \"questionType\": 1, \"questionId\": \"3_ReviewsPerCountry\", \"learnToolsVersion\": \"0.3.4\", \"failureMessage\": \"\", \"exceptionClass\": \"\", \"trace\": \"\"}}, \"*\")"
      ],
      "text/plain": [
       "<IPython.core.display.Javascript object>"
      ]
     },
     "metadata": {},
     "output_type": "display_data"
    },
    {
     "data": {
      "text/markdown": [
       "<span style=\"color:#33cc33\">Correct</span>"
      ],
      "text/plain": [
       "Correct"
      ]
     },
     "metadata": {},
     "output_type": "display_data"
    }
   ],
   "source": [
    "reviews_per_country = reviews.country.value_counts()\n",
    "\n",
    "# Check your answer\n",
    "q3.check()"
   ]
  },
  {
   "cell_type": "code",
   "execution_count": 7,
   "id": "504f84bb",
   "metadata": {
    "execution": {
     "iopub.execute_input": "2023-01-14T16:05:34.388541Z",
     "iopub.status.busy": "2023-01-14T16:05:34.387250Z",
     "iopub.status.idle": "2023-01-14T16:05:34.391678Z",
     "shell.execute_reply": "2023-01-14T16:05:34.390900Z"
    },
    "papermill": {
     "duration": 0.015676,
     "end_time": "2023-01-14T16:05:34.393812",
     "exception": false,
     "start_time": "2023-01-14T16:05:34.378136",
     "status": "completed"
    },
    "tags": []
   },
   "outputs": [],
   "source": [
    "#q3.hint()\n",
    "#q3.solution()"
   ]
  },
  {
   "cell_type": "markdown",
   "id": "02ad7954",
   "metadata": {
    "papermill": {
     "duration": 0.007148,
     "end_time": "2023-01-14T16:05:34.408282",
     "exception": false,
     "start_time": "2023-01-14T16:05:34.401134",
     "status": "completed"
    },
    "tags": []
   },
   "source": [
    "## 4.\n",
    "Create variable `centered_price` containing a version of the `price` column with the mean price subtracted.\n",
    "\n",
    "(Note: this 'centering' transformation is a common preprocessing step before applying various machine learning algorithms.) "
   ]
  },
  {
   "cell_type": "code",
   "execution_count": 8,
   "id": "002c12b8",
   "metadata": {
    "execution": {
     "iopub.execute_input": "2023-01-14T16:05:34.426457Z",
     "iopub.status.busy": "2023-01-14T16:05:34.425799Z",
     "iopub.status.idle": "2023-01-14T16:05:34.436520Z",
     "shell.execute_reply": "2023-01-14T16:05:34.435554Z"
    },
    "papermill": {
     "duration": 0.023239,
     "end_time": "2023-01-14T16:05:34.438965",
     "exception": false,
     "start_time": "2023-01-14T16:05:34.415726",
     "status": "completed"
    },
    "tags": []
   },
   "outputs": [
    {
     "data": {
      "application/javascript": [
       "parent.postMessage({\"jupyterEvent\": \"custom.exercise_interaction\", \"data\": {\"outcomeType\": 1, \"valueTowardsCompletion\": 0.14285714285714285, \"interactionType\": 1, \"questionType\": 1, \"questionId\": \"4_CenteredPrice\", \"learnToolsVersion\": \"0.3.4\", \"failureMessage\": \"\", \"exceptionClass\": \"\", \"trace\": \"\"}}, \"*\")"
      ],
      "text/plain": [
       "<IPython.core.display.Javascript object>"
      ]
     },
     "metadata": {},
     "output_type": "display_data"
    },
    {
     "data": {
      "text/markdown": [
       "<span style=\"color:#33cc33\">Correct</span>"
      ],
      "text/plain": [
       "Correct"
      ]
     },
     "metadata": {},
     "output_type": "display_data"
    }
   ],
   "source": [
    "centered_price = reviews.price-reviews.price.mean()\n",
    "\n",
    "# Check your answer\n",
    "q4.check()"
   ]
  },
  {
   "cell_type": "code",
   "execution_count": 9,
   "id": "9e30d9c3",
   "metadata": {
    "execution": {
     "iopub.execute_input": "2023-01-14T16:05:34.457402Z",
     "iopub.status.busy": "2023-01-14T16:05:34.457004Z",
     "iopub.status.idle": "2023-01-14T16:05:34.461445Z",
     "shell.execute_reply": "2023-01-14T16:05:34.460134Z"
    },
    "papermill": {
     "duration": 0.016561,
     "end_time": "2023-01-14T16:05:34.463970",
     "exception": false,
     "start_time": "2023-01-14T16:05:34.447409",
     "status": "completed"
    },
    "tags": []
   },
   "outputs": [],
   "source": [
    "#q4.hint()\n",
    "#q4.solution()"
   ]
  },
  {
   "cell_type": "markdown",
   "id": "c1f0595b",
   "metadata": {
    "papermill": {
     "duration": 0.007709,
     "end_time": "2023-01-14T16:05:34.479602",
     "exception": false,
     "start_time": "2023-01-14T16:05:34.471893",
     "status": "completed"
    },
    "tags": []
   },
   "source": [
    "## 5.\n",
    "I'm an economical wine buyer. Which wine is the \"best bargain\"? Create a variable `bargain_wine` with the title of the wine with the highest points-to-price ratio in the dataset."
   ]
  },
  {
   "cell_type": "code",
   "execution_count": 10,
   "id": "feaad516",
   "metadata": {
    "execution": {
     "iopub.execute_input": "2023-01-14T16:05:34.496869Z",
     "iopub.status.busy": "2023-01-14T16:05:34.496020Z",
     "iopub.status.idle": "2023-01-14T16:05:34.510072Z",
     "shell.execute_reply": "2023-01-14T16:05:34.509160Z"
    },
    "papermill": {
     "duration": 0.025346,
     "end_time": "2023-01-14T16:05:34.512493",
     "exception": false,
     "start_time": "2023-01-14T16:05:34.487147",
     "status": "completed"
    },
    "tags": []
   },
   "outputs": [
    {
     "data": {
      "application/javascript": [
       "parent.postMessage({\"jupyterEvent\": \"custom.exercise_interaction\", \"data\": {\"outcomeType\": 1, \"valueTowardsCompletion\": 0.14285714285714285, \"interactionType\": 1, \"questionType\": 2, \"questionId\": \"5_BargainWine\", \"learnToolsVersion\": \"0.3.4\", \"failureMessage\": \"\", \"exceptionClass\": \"\", \"trace\": \"\"}}, \"*\")"
      ],
      "text/plain": [
       "<IPython.core.display.Javascript object>"
      ]
     },
     "metadata": {},
     "output_type": "display_data"
    },
    {
     "data": {
      "text/markdown": [
       "<span style=\"color:#33cc33\">Correct</span>"
      ],
      "text/plain": [
       "Correct"
      ]
     },
     "metadata": {},
     "output_type": "display_data"
    }
   ],
   "source": [
    "bargain_idx = (reviews.points / reviews.price).idxmax()\n",
    "bargain_wine = reviews.loc[bargain_idx, 'title']\n",
    "# Check your answer\n",
    "q5.check()"
   ]
  },
  {
   "cell_type": "code",
   "execution_count": 11,
   "id": "a5a10a3c",
   "metadata": {
    "execution": {
     "iopub.execute_input": "2023-01-14T16:05:34.530217Z",
     "iopub.status.busy": "2023-01-14T16:05:34.529780Z",
     "iopub.status.idle": "2023-01-14T16:05:34.534975Z",
     "shell.execute_reply": "2023-01-14T16:05:34.533368Z"
    },
    "papermill": {
     "duration": 0.017091,
     "end_time": "2023-01-14T16:05:34.537728",
     "exception": false,
     "start_time": "2023-01-14T16:05:34.520637",
     "status": "completed"
    },
    "tags": []
   },
   "outputs": [],
   "source": [
    "#q5.hint()\n",
    "#q5.solution()"
   ]
  },
  {
   "cell_type": "markdown",
   "id": "a66b05ab",
   "metadata": {
    "papermill": {
     "duration": 0.007337,
     "end_time": "2023-01-14T16:05:34.552932",
     "exception": false,
     "start_time": "2023-01-14T16:05:34.545595",
     "status": "completed"
    },
    "tags": []
   },
   "source": [
    "## 6.\n",
    "There are only so many words you can use when describing a bottle of wine. Is a wine more likely to be \"tropical\" or \"fruity\"? Create a Series `descriptor_counts` counting how many times each of these two words appears in the `description` column in the dataset. (For simplicity, let's ignore the capitalized versions of these words.)"
   ]
  },
  {
   "cell_type": "code",
   "execution_count": 12,
   "id": "ef9a5f1f",
   "metadata": {
    "execution": {
     "iopub.execute_input": "2023-01-14T16:05:34.571577Z",
     "iopub.status.busy": "2023-01-14T16:05:34.570814Z",
     "iopub.status.idle": "2023-01-14T16:05:34.716567Z",
     "shell.execute_reply": "2023-01-14T16:05:34.715288Z"
    },
    "papermill": {
     "duration": 0.157664,
     "end_time": "2023-01-14T16:05:34.719241",
     "exception": false,
     "start_time": "2023-01-14T16:05:34.561577",
     "status": "completed"
    },
    "tags": []
   },
   "outputs": [
    {
     "data": {
      "application/javascript": [
       "parent.postMessage({\"jupyterEvent\": \"custom.exercise_interaction\", \"data\": {\"outcomeType\": 1, \"valueTowardsCompletion\": 0.14285714285714285, \"interactionType\": 1, \"questionType\": 1, \"questionId\": \"6_DescriptorCounts\", \"learnToolsVersion\": \"0.3.4\", \"failureMessage\": \"\", \"exceptionClass\": \"\", \"trace\": \"\"}}, \"*\")"
      ],
      "text/plain": [
       "<IPython.core.display.Javascript object>"
      ]
     },
     "metadata": {},
     "output_type": "display_data"
    },
    {
     "data": {
      "text/markdown": [
       "<span style=\"color:#33cc33\">Correct</span>"
      ],
      "text/plain": [
       "Correct"
      ]
     },
     "metadata": {},
     "output_type": "display_data"
    }
   ],
   "source": [
    "n_trop = reviews.description.map(lambda desc: \"tropical\" in desc).sum()\n",
    "n_fruity = reviews.description.map(lambda desc: \"fruity\" in desc).sum()\n",
    "descriptor_counts = pd.Series([n_trop, n_fruity], index=['tropical', 'fruity'])\n",
    "# Check your answer\n",
    "q6.check()"
   ]
  },
  {
   "cell_type": "code",
   "execution_count": 13,
   "id": "d3e7b8da",
   "metadata": {
    "execution": {
     "iopub.execute_input": "2023-01-14T16:05:34.736859Z",
     "iopub.status.busy": "2023-01-14T16:05:34.736438Z",
     "iopub.status.idle": "2023-01-14T16:05:34.741292Z",
     "shell.execute_reply": "2023-01-14T16:05:34.740029Z"
    },
    "papermill": {
     "duration": 0.016688,
     "end_time": "2023-01-14T16:05:34.743824",
     "exception": false,
     "start_time": "2023-01-14T16:05:34.727136",
     "status": "completed"
    },
    "tags": []
   },
   "outputs": [],
   "source": [
    "#q6.hint()\n",
    "#q6.solution()"
   ]
  },
  {
   "cell_type": "markdown",
   "id": "f7a927ac",
   "metadata": {
    "papermill": {
     "duration": 0.007614,
     "end_time": "2023-01-14T16:05:34.759588",
     "exception": false,
     "start_time": "2023-01-14T16:05:34.751974",
     "status": "completed"
    },
    "tags": []
   },
   "source": [
    "## 7.\n",
    "We'd like to host these wine reviews on our website, but a rating system ranging from 80 to 100 points is too hard to understand - we'd like to translate them into simple star ratings. A score of 95 or higher counts as 3 stars, a score of at least 85 but less than 95 is 2 stars. Any other score is 1 star.\n",
    "\n",
    "Also, the Canadian Vintners Association bought a lot of ads on the site, so any wines from Canada should automatically get 3 stars, regardless of points.\n",
    "\n",
    "Create a series `star_ratings` with the number of stars corresponding to each review in the dataset."
   ]
  },
  {
   "cell_type": "code",
   "execution_count": 14,
   "id": "36ea5d96",
   "metadata": {
    "execution": {
     "iopub.execute_input": "2023-01-14T16:05:34.777584Z",
     "iopub.status.busy": "2023-01-14T16:05:34.777179Z",
     "iopub.status.idle": "2023-01-14T16:05:38.818622Z",
     "shell.execute_reply": "2023-01-14T16:05:38.817549Z"
    },
    "papermill": {
     "duration": 4.053258,
     "end_time": "2023-01-14T16:05:38.820894",
     "exception": false,
     "start_time": "2023-01-14T16:05:34.767636",
     "status": "completed"
    },
    "tags": []
   },
   "outputs": [
    {
     "data": {
      "application/javascript": [
       "parent.postMessage({\"jupyterEvent\": \"custom.exercise_interaction\", \"data\": {\"outcomeType\": 1, \"valueTowardsCompletion\": 0.14285714285714285, \"interactionType\": 1, \"questionType\": 1, \"questionId\": \"7_StarRatings\", \"learnToolsVersion\": \"0.3.4\", \"failureMessage\": \"\", \"exceptionClass\": \"\", \"trace\": \"\"}}, \"*\")"
      ],
      "text/plain": [
       "<IPython.core.display.Javascript object>"
      ]
     },
     "metadata": {},
     "output_type": "display_data"
    },
    {
     "data": {
      "text/markdown": [
       "<span style=\"color:#33cc33\">Correct</span>"
      ],
      "text/plain": [
       "Correct"
      ]
     },
     "metadata": {},
     "output_type": "display_data"
    }
   ],
   "source": [
    "def stars(row):\n",
    "    if row.country == 'Canada':\n",
    "        return 3\n",
    "    elif row.points >= 95:\n",
    "        return 3\n",
    "    elif row.points >= 85:\n",
    "        return 2\n",
    "    else:\n",
    "        return 1\n",
    "\n",
    "star_ratings = reviews.apply(stars, axis='columns')\n",
    "# Check your answer\n",
    "q7.check()"
   ]
  },
  {
   "cell_type": "code",
   "execution_count": 15,
   "id": "67c4671a",
   "metadata": {
    "execution": {
     "iopub.execute_input": "2023-01-14T16:05:38.839338Z",
     "iopub.status.busy": "2023-01-14T16:05:38.838928Z",
     "iopub.status.idle": "2023-01-14T16:05:38.844359Z",
     "shell.execute_reply": "2023-01-14T16:05:38.842567Z"
    },
    "papermill": {
     "duration": 0.01756,
     "end_time": "2023-01-14T16:05:38.846943",
     "exception": false,
     "start_time": "2023-01-14T16:05:38.829383",
     "status": "completed"
    },
    "tags": []
   },
   "outputs": [],
   "source": [
    "#q7.hint()\n",
    "#q7.solution()"
   ]
  },
  {
   "cell_type": "markdown",
   "id": "31c94f76",
   "metadata": {
    "papermill": {
     "duration": 0.008334,
     "end_time": "2023-01-14T16:05:38.863471",
     "exception": false,
     "start_time": "2023-01-14T16:05:38.855137",
     "status": "completed"
    },
    "tags": []
   },
   "source": [
    "# Keep going\n",
    "Continue to **[grouping and sorting](https://www.kaggle.com/residentmario/grouping-and-sorting)**."
   ]
  },
  {
   "cell_type": "markdown",
   "id": "3cefda6c",
   "metadata": {
    "papermill": {
     "duration": 0.008584,
     "end_time": "2023-01-14T16:05:38.880703",
     "exception": false,
     "start_time": "2023-01-14T16:05:38.872119",
     "status": "completed"
    },
    "tags": []
   },
   "source": [
    "---\n",
    "\n",
    "\n",
    "\n",
    "\n",
    "*Have questions or comments? Visit the [course discussion forum](https://www.kaggle.com/learn/pandas/discussion) to chat with other learners.*"
   ]
  }
 ],
 "metadata": {
  "kernelspec": {
   "display_name": "Python 3",
   "language": "python",
   "name": "python3"
  },
  "language_info": {
   "codemirror_mode": {
    "name": "ipython",
    "version": 3
   },
   "file_extension": ".py",
   "mimetype": "text/x-python",
   "name": "python",
   "nbconvert_exporter": "python",
   "pygments_lexer": "ipython3",
   "version": "3.7.12"
  },
  "papermill": {
   "default_parameters": {},
   "duration": 21.993194,
   "end_time": "2023-01-14T16:05:39.615460",
   "environment_variables": {},
   "exception": null,
   "input_path": "__notebook__.ipynb",
   "output_path": "__notebook__.ipynb",
   "parameters": {},
   "start_time": "2023-01-14T16:05:17.622266",
   "version": "2.3.4"
  }
 },
 "nbformat": 4,
 "nbformat_minor": 5
}
