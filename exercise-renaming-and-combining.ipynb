{
 "cells": [
  {
   "cell_type": "markdown",
   "id": "1ee7ab20",
   "metadata": {
    "papermill": {
     "duration": 0.00708,
     "end_time": "2023-01-14T16:56:55.425133",
     "exception": false,
     "start_time": "2023-01-14T16:56:55.418053",
     "status": "completed"
    },
    "tags": []
   },
   "source": [
    "**This notebook is an exercise in the [Pandas](https://www.kaggle.com/learn/pandas) course.  You can reference the tutorial at [this link](https://www.kaggle.com/residentmario/renaming-and-combining).**\n",
    "\n",
    "---\n"
   ]
  },
  {
   "cell_type": "markdown",
   "id": "c6b614c4",
   "metadata": {
    "papermill": {
     "duration": 0.005209,
     "end_time": "2023-01-14T16:56:55.436738",
     "exception": false,
     "start_time": "2023-01-14T16:56:55.431529",
     "status": "completed"
    },
    "tags": []
   },
   "source": [
    "# Introduction\n",
    "\n",
    "Run the following cell to load your data and some utility functions."
   ]
  },
  {
   "cell_type": "code",
   "execution_count": 1,
   "id": "2bf97410",
   "metadata": {
    "execution": {
     "iopub.execute_input": "2023-01-14T16:56:55.451171Z",
     "iopub.status.busy": "2023-01-14T16:56:55.449758Z",
     "iopub.status.idle": "2023-01-14T16:56:59.980448Z",
     "shell.execute_reply": "2023-01-14T16:56:59.979185Z"
    },
    "papermill": {
     "duration": 4.540993,
     "end_time": "2023-01-14T16:56:59.983597",
     "exception": false,
     "start_time": "2023-01-14T16:56:55.442604",
     "status": "completed"
    },
    "tags": []
   },
   "outputs": [
    {
     "name": "stdout",
     "output_type": "stream",
     "text": [
      "Setup complete.\n"
     ]
    }
   ],
   "source": [
    "import pandas as pd\n",
    "\n",
    "reviews = pd.read_csv(\"../input/wine-reviews/winemag-data-130k-v2.csv\", index_col=0)\n",
    "\n",
    "from learntools.core import binder; binder.bind(globals())\n",
    "from learntools.pandas.renaming_and_combining import *\n",
    "print(\"Setup complete.\")"
   ]
  },
  {
   "cell_type": "markdown",
   "id": "dc5cd92f",
   "metadata": {
    "papermill": {
     "duration": 0.005257,
     "end_time": "2023-01-14T16:56:59.994646",
     "exception": false,
     "start_time": "2023-01-14T16:56:59.989389",
     "status": "completed"
    },
    "tags": []
   },
   "source": [
    "# Exercises\n",
    "\n",
    "View the first several lines of your data by running the cell below:"
   ]
  },
  {
   "cell_type": "code",
   "execution_count": 2,
   "id": "3416fb44",
   "metadata": {
    "execution": {
     "iopub.execute_input": "2023-01-14T16:57:00.008369Z",
     "iopub.status.busy": "2023-01-14T16:57:00.007844Z",
     "iopub.status.idle": "2023-01-14T16:57:00.034275Z",
     "shell.execute_reply": "2023-01-14T16:57:00.032857Z"
    },
    "papermill": {
     "duration": 0.036798,
     "end_time": "2023-01-14T16:57:00.036996",
     "exception": false,
     "start_time": "2023-01-14T16:57:00.000198",
     "status": "completed"
    },
    "tags": []
   },
   "outputs": [
    {
     "data": {
      "text/html": [
       "<div>\n",
       "<style scoped>\n",
       "    .dataframe tbody tr th:only-of-type {\n",
       "        vertical-align: middle;\n",
       "    }\n",
       "\n",
       "    .dataframe tbody tr th {\n",
       "        vertical-align: top;\n",
       "    }\n",
       "\n",
       "    .dataframe thead th {\n",
       "        text-align: right;\n",
       "    }\n",
       "</style>\n",
       "<table border=\"1\" class=\"dataframe\">\n",
       "  <thead>\n",
       "    <tr style=\"text-align: right;\">\n",
       "      <th></th>\n",
       "      <th>country</th>\n",
       "      <th>description</th>\n",
       "      <th>designation</th>\n",
       "      <th>points</th>\n",
       "      <th>price</th>\n",
       "      <th>province</th>\n",
       "      <th>region_1</th>\n",
       "      <th>region_2</th>\n",
       "      <th>taster_name</th>\n",
       "      <th>taster_twitter_handle</th>\n",
       "      <th>title</th>\n",
       "      <th>variety</th>\n",
       "      <th>winery</th>\n",
       "    </tr>\n",
       "  </thead>\n",
       "  <tbody>\n",
       "    <tr>\n",
       "      <th>0</th>\n",
       "      <td>Italy</td>\n",
       "      <td>Aromas include tropical fruit, broom, brimston...</td>\n",
       "      <td>Vulkà Bianco</td>\n",
       "      <td>87</td>\n",
       "      <td>NaN</td>\n",
       "      <td>Sicily &amp; Sardinia</td>\n",
       "      <td>Etna</td>\n",
       "      <td>NaN</td>\n",
       "      <td>Kerin O’Keefe</td>\n",
       "      <td>@kerinokeefe</td>\n",
       "      <td>Nicosia 2013 Vulkà Bianco  (Etna)</td>\n",
       "      <td>White Blend</td>\n",
       "      <td>Nicosia</td>\n",
       "    </tr>\n",
       "    <tr>\n",
       "      <th>1</th>\n",
       "      <td>Portugal</td>\n",
       "      <td>This is ripe and fruity, a wine that is smooth...</td>\n",
       "      <td>Avidagos</td>\n",
       "      <td>87</td>\n",
       "      <td>15.0</td>\n",
       "      <td>Douro</td>\n",
       "      <td>NaN</td>\n",
       "      <td>NaN</td>\n",
       "      <td>Roger Voss</td>\n",
       "      <td>@vossroger</td>\n",
       "      <td>Quinta dos Avidagos 2011 Avidagos Red (Douro)</td>\n",
       "      <td>Portuguese Red</td>\n",
       "      <td>Quinta dos Avidagos</td>\n",
       "    </tr>\n",
       "    <tr>\n",
       "      <th>2</th>\n",
       "      <td>US</td>\n",
       "      <td>Tart and snappy, the flavors of lime flesh and...</td>\n",
       "      <td>NaN</td>\n",
       "      <td>87</td>\n",
       "      <td>14.0</td>\n",
       "      <td>Oregon</td>\n",
       "      <td>Willamette Valley</td>\n",
       "      <td>Willamette Valley</td>\n",
       "      <td>Paul Gregutt</td>\n",
       "      <td>@paulgwine</td>\n",
       "      <td>Rainstorm 2013 Pinot Gris (Willamette Valley)</td>\n",
       "      <td>Pinot Gris</td>\n",
       "      <td>Rainstorm</td>\n",
       "    </tr>\n",
       "    <tr>\n",
       "      <th>3</th>\n",
       "      <td>US</td>\n",
       "      <td>Pineapple rind, lemon pith and orange blossom ...</td>\n",
       "      <td>Reserve Late Harvest</td>\n",
       "      <td>87</td>\n",
       "      <td>13.0</td>\n",
       "      <td>Michigan</td>\n",
       "      <td>Lake Michigan Shore</td>\n",
       "      <td>NaN</td>\n",
       "      <td>Alexander Peartree</td>\n",
       "      <td>NaN</td>\n",
       "      <td>St. Julian 2013 Reserve Late Harvest Riesling ...</td>\n",
       "      <td>Riesling</td>\n",
       "      <td>St. Julian</td>\n",
       "    </tr>\n",
       "    <tr>\n",
       "      <th>4</th>\n",
       "      <td>US</td>\n",
       "      <td>Much like the regular bottling from 2012, this...</td>\n",
       "      <td>Vintner's Reserve Wild Child Block</td>\n",
       "      <td>87</td>\n",
       "      <td>65.0</td>\n",
       "      <td>Oregon</td>\n",
       "      <td>Willamette Valley</td>\n",
       "      <td>Willamette Valley</td>\n",
       "      <td>Paul Gregutt</td>\n",
       "      <td>@paulgwine</td>\n",
       "      <td>Sweet Cheeks 2012 Vintner's Reserve Wild Child...</td>\n",
       "      <td>Pinot Noir</td>\n",
       "      <td>Sweet Cheeks</td>\n",
       "    </tr>\n",
       "  </tbody>\n",
       "</table>\n",
       "</div>"
      ],
      "text/plain": [
       "    country                                        description  \\\n",
       "0     Italy  Aromas include tropical fruit, broom, brimston...   \n",
       "1  Portugal  This is ripe and fruity, a wine that is smooth...   \n",
       "2        US  Tart and snappy, the flavors of lime flesh and...   \n",
       "3        US  Pineapple rind, lemon pith and orange blossom ...   \n",
       "4        US  Much like the regular bottling from 2012, this...   \n",
       "\n",
       "                          designation  points  price           province  \\\n",
       "0                        Vulkà Bianco      87    NaN  Sicily & Sardinia   \n",
       "1                            Avidagos      87   15.0              Douro   \n",
       "2                                 NaN      87   14.0             Oregon   \n",
       "3                Reserve Late Harvest      87   13.0           Michigan   \n",
       "4  Vintner's Reserve Wild Child Block      87   65.0             Oregon   \n",
       "\n",
       "              region_1           region_2         taster_name  \\\n",
       "0                 Etna                NaN       Kerin O’Keefe   \n",
       "1                  NaN                NaN          Roger Voss   \n",
       "2    Willamette Valley  Willamette Valley        Paul Gregutt   \n",
       "3  Lake Michigan Shore                NaN  Alexander Peartree   \n",
       "4    Willamette Valley  Willamette Valley        Paul Gregutt   \n",
       "\n",
       "  taster_twitter_handle                                              title  \\\n",
       "0          @kerinokeefe                  Nicosia 2013 Vulkà Bianco  (Etna)   \n",
       "1            @vossroger      Quinta dos Avidagos 2011 Avidagos Red (Douro)   \n",
       "2           @paulgwine       Rainstorm 2013 Pinot Gris (Willamette Valley)   \n",
       "3                   NaN  St. Julian 2013 Reserve Late Harvest Riesling ...   \n",
       "4           @paulgwine   Sweet Cheeks 2012 Vintner's Reserve Wild Child...   \n",
       "\n",
       "          variety               winery  \n",
       "0     White Blend              Nicosia  \n",
       "1  Portuguese Red  Quinta dos Avidagos  \n",
       "2      Pinot Gris            Rainstorm  \n",
       "3        Riesling           St. Julian  \n",
       "4      Pinot Noir         Sweet Cheeks  "
      ]
     },
     "execution_count": 2,
     "metadata": {},
     "output_type": "execute_result"
    }
   ],
   "source": [
    "reviews.head()"
   ]
  },
  {
   "cell_type": "markdown",
   "id": "09034269",
   "metadata": {
    "papermill": {
     "duration": 0.005586,
     "end_time": "2023-01-14T16:57:00.048873",
     "exception": false,
     "start_time": "2023-01-14T16:57:00.043287",
     "status": "completed"
    },
    "tags": []
   },
   "source": [
    "## 1.\n",
    "`region_1` and `region_2` are pretty uninformative names for locale columns in the dataset. Create a copy of `reviews` with these columns renamed to `region` and `locale`, respectively."
   ]
  },
  {
   "cell_type": "code",
   "execution_count": 3,
   "id": "6bd27e6f",
   "metadata": {
    "execution": {
     "iopub.execute_input": "2023-01-14T16:57:00.063029Z",
     "iopub.status.busy": "2023-01-14T16:57:00.062471Z",
     "iopub.status.idle": "2023-01-14T16:57:00.103760Z",
     "shell.execute_reply": "2023-01-14T16:57:00.102384Z"
    },
    "papermill": {
     "duration": 0.051487,
     "end_time": "2023-01-14T16:57:00.106254",
     "exception": false,
     "start_time": "2023-01-14T16:57:00.054767",
     "status": "completed"
    },
    "tags": []
   },
   "outputs": [
    {
     "data": {
      "application/javascript": [
       "parent.postMessage({\"jupyterEvent\": \"custom.exercise_interaction\", \"data\": {\"outcomeType\": 1, \"valueTowardsCompletion\": 0.25, \"interactionType\": 1, \"questionType\": 1, \"questionId\": \"1_RenameCols\", \"learnToolsVersion\": \"0.3.4\", \"failureMessage\": \"\", \"exceptionClass\": \"\", \"trace\": \"\"}}, \"*\")"
      ],
      "text/plain": [
       "<IPython.core.display.Javascript object>"
      ]
     },
     "metadata": {},
     "output_type": "display_data"
    },
    {
     "data": {
      "text/markdown": [
       "<span style=\"color:#33cc33\">Correct</span>"
      ],
      "text/plain": [
       "Correct"
      ]
     },
     "metadata": {},
     "output_type": "display_data"
    }
   ],
   "source": [
    "# Your code here\n",
    "renamed = reviews.rename(columns=dict(region_1='region', region_2='locale'))\n",
    "\n",
    "# Check your answer\n",
    "q1.check()"
   ]
  },
  {
   "cell_type": "code",
   "execution_count": 4,
   "id": "b4eb06f9",
   "metadata": {
    "execution": {
     "iopub.execute_input": "2023-01-14T16:57:00.121000Z",
     "iopub.status.busy": "2023-01-14T16:57:00.120524Z",
     "iopub.status.idle": "2023-01-14T16:57:00.125651Z",
     "shell.execute_reply": "2023-01-14T16:57:00.124197Z"
    },
    "papermill": {
     "duration": 0.015691,
     "end_time": "2023-01-14T16:57:00.128239",
     "exception": false,
     "start_time": "2023-01-14T16:57:00.112548",
     "status": "completed"
    },
    "tags": []
   },
   "outputs": [],
   "source": [
    "#q1.hint()\n",
    "#q1.solution()"
   ]
  },
  {
   "cell_type": "markdown",
   "id": "9f7fa6a8",
   "metadata": {
    "papermill": {
     "duration": 0.006279,
     "end_time": "2023-01-14T16:57:00.143052",
     "exception": false,
     "start_time": "2023-01-14T16:57:00.136773",
     "status": "completed"
    },
    "tags": []
   },
   "source": [
    "## 2.\n",
    "Set the index name in the dataset to `wines`."
   ]
  },
  {
   "cell_type": "code",
   "execution_count": 5,
   "id": "ef902401",
   "metadata": {
    "execution": {
     "iopub.execute_input": "2023-01-14T16:57:00.157836Z",
     "iopub.status.busy": "2023-01-14T16:57:00.157390Z",
     "iopub.status.idle": "2023-01-14T16:57:00.200797Z",
     "shell.execute_reply": "2023-01-14T16:57:00.199619Z"
    },
    "papermill": {
     "duration": 0.054138,
     "end_time": "2023-01-14T16:57:00.203469",
     "exception": false,
     "start_time": "2023-01-14T16:57:00.149331",
     "status": "completed"
    },
    "tags": []
   },
   "outputs": [
    {
     "data": {
      "application/javascript": [
       "parent.postMessage({\"jupyterEvent\": \"custom.exercise_interaction\", \"data\": {\"outcomeType\": 1, \"valueTowardsCompletion\": 0.25, \"interactionType\": 1, \"questionType\": 1, \"questionId\": \"2_RenameIndex\", \"learnToolsVersion\": \"0.3.4\", \"failureMessage\": \"\", \"exceptionClass\": \"\", \"trace\": \"\"}}, \"*\")"
      ],
      "text/plain": [
       "<IPython.core.display.Javascript object>"
      ]
     },
     "metadata": {},
     "output_type": "display_data"
    },
    {
     "data": {
      "text/markdown": [
       "<span style=\"color:#33cc33\">Correct</span>"
      ],
      "text/plain": [
       "Correct"
      ]
     },
     "metadata": {},
     "output_type": "display_data"
    }
   ],
   "source": [
    "reindexed = reviews.rename_axis('wines', axis='rows')\n",
    "\n",
    "# Check your answer\n",
    "q2.check()"
   ]
  },
  {
   "cell_type": "code",
   "execution_count": 6,
   "id": "441c6ae3",
   "metadata": {
    "execution": {
     "iopub.execute_input": "2023-01-14T16:57:00.218882Z",
     "iopub.status.busy": "2023-01-14T16:57:00.218417Z",
     "iopub.status.idle": "2023-01-14T16:57:00.223480Z",
     "shell.execute_reply": "2023-01-14T16:57:00.222100Z"
    },
    "papermill": {
     "duration": 0.016321,
     "end_time": "2023-01-14T16:57:00.226335",
     "exception": false,
     "start_time": "2023-01-14T16:57:00.210014",
     "status": "completed"
    },
    "tags": []
   },
   "outputs": [],
   "source": [
    "#q2.hint()\n",
    "#q2.solution()"
   ]
  },
  {
   "cell_type": "markdown",
   "id": "2a4fc38f",
   "metadata": {
    "papermill": {
     "duration": 0.00622,
     "end_time": "2023-01-14T16:57:00.239360",
     "exception": false,
     "start_time": "2023-01-14T16:57:00.233140",
     "status": "completed"
    },
    "tags": []
   },
   "source": [
    "## 3.\n",
    "The [Things on Reddit](https://www.kaggle.com/residentmario/things-on-reddit/data) dataset includes product links from a selection of top-ranked forums (\"subreddits\") on reddit.com. Run the cell below to load a dataframe of products mentioned on the */r/gaming* subreddit and another dataframe for products mentioned on the *r//movies* subreddit."
   ]
  },
  {
   "cell_type": "code",
   "execution_count": 7,
   "id": "61ab8a27",
   "metadata": {
    "execution": {
     "iopub.execute_input": "2023-01-14T16:57:00.255497Z",
     "iopub.status.busy": "2023-01-14T16:57:00.254997Z",
     "iopub.status.idle": "2023-01-14T16:57:00.273276Z",
     "shell.execute_reply": "2023-01-14T16:57:00.271876Z"
    },
    "papermill": {
     "duration": 0.030161,
     "end_time": "2023-01-14T16:57:00.276517",
     "exception": false,
     "start_time": "2023-01-14T16:57:00.246356",
     "status": "completed"
    },
    "tags": []
   },
   "outputs": [],
   "source": [
    "gaming_products = pd.read_csv(\"../input/things-on-reddit/top-things/top-things/reddits/g/gaming.csv\")\n",
    "gaming_products['subreddit'] = \"r/gaming\"\n",
    "movie_products = pd.read_csv(\"../input/things-on-reddit/top-things/top-things/reddits/m/movies.csv\")\n",
    "movie_products['subreddit'] = \"r/movies\""
   ]
  },
  {
   "cell_type": "markdown",
   "id": "1f5db985",
   "metadata": {
    "papermill": {
     "duration": 0.006763,
     "end_time": "2023-01-14T16:57:00.290011",
     "exception": false,
     "start_time": "2023-01-14T16:57:00.283248",
     "status": "completed"
    },
    "tags": []
   },
   "source": [
    "Create a `DataFrame` of products mentioned on *either* subreddit."
   ]
  },
  {
   "cell_type": "code",
   "execution_count": 8,
   "id": "1b00eb45",
   "metadata": {
    "execution": {
     "iopub.execute_input": "2023-01-14T16:57:00.305644Z",
     "iopub.status.busy": "2023-01-14T16:57:00.305195Z",
     "iopub.status.idle": "2023-01-14T16:57:00.322437Z",
     "shell.execute_reply": "2023-01-14T16:57:00.321477Z"
    },
    "papermill": {
     "duration": 0.027961,
     "end_time": "2023-01-14T16:57:00.324802",
     "exception": false,
     "start_time": "2023-01-14T16:57:00.296841",
     "status": "completed"
    },
    "tags": []
   },
   "outputs": [
    {
     "data": {
      "application/javascript": [
       "parent.postMessage({\"jupyterEvent\": \"custom.exercise_interaction\", \"data\": {\"outcomeType\": 1, \"valueTowardsCompletion\": 0.25, \"interactionType\": 1, \"questionType\": 2, \"questionId\": \"3_ConcatReddit\", \"learnToolsVersion\": \"0.3.4\", \"failureMessage\": \"\", \"exceptionClass\": \"\", \"trace\": \"\"}}, \"*\")"
      ],
      "text/plain": [
       "<IPython.core.display.Javascript object>"
      ]
     },
     "metadata": {},
     "output_type": "display_data"
    },
    {
     "data": {
      "text/markdown": [
       "<span style=\"color:#33cc33\">Correct</span>"
      ],
      "text/plain": [
       "Correct"
      ]
     },
     "metadata": {},
     "output_type": "display_data"
    }
   ],
   "source": [
    "combined_products = pd.concat([gaming_products, movie_products])\n",
    "\n",
    "# Check your answer\n",
    "q3.check()"
   ]
  },
  {
   "cell_type": "code",
   "execution_count": 9,
   "id": "812395a5",
   "metadata": {
    "execution": {
     "iopub.execute_input": "2023-01-14T16:57:00.340512Z",
     "iopub.status.busy": "2023-01-14T16:57:00.339581Z",
     "iopub.status.idle": "2023-01-14T16:57:00.344537Z",
     "shell.execute_reply": "2023-01-14T16:57:00.343575Z"
    },
    "papermill": {
     "duration": 0.015435,
     "end_time": "2023-01-14T16:57:00.346916",
     "exception": false,
     "start_time": "2023-01-14T16:57:00.331481",
     "status": "completed"
    },
    "tags": []
   },
   "outputs": [],
   "source": [
    "#q3.hint()\n",
    "#q3.solution()"
   ]
  },
  {
   "cell_type": "markdown",
   "id": "3ed9a815",
   "metadata": {
    "papermill": {
     "duration": 0.006376,
     "end_time": "2023-01-14T16:57:00.360184",
     "exception": false,
     "start_time": "2023-01-14T16:57:00.353808",
     "status": "completed"
    },
    "tags": []
   },
   "source": [
    "## 4.\n",
    "The [Powerlifting Database](https://www.kaggle.com/open-powerlifting/powerlifting-database) dataset on Kaggle includes one CSV table for powerlifting meets and a separate one for powerlifting competitors. Run the cell below to load these datasets into dataframes:"
   ]
  },
  {
   "cell_type": "code",
   "execution_count": 10,
   "id": "eef9ded1",
   "metadata": {
    "execution": {
     "iopub.execute_input": "2023-01-14T16:57:00.376284Z",
     "iopub.status.busy": "2023-01-14T16:57:00.375742Z",
     "iopub.status.idle": "2023-01-14T16:57:01.320473Z",
     "shell.execute_reply": "2023-01-14T16:57:01.319492Z"
    },
    "papermill": {
     "duration": 0.956707,
     "end_time": "2023-01-14T16:57:01.323486",
     "exception": false,
     "start_time": "2023-01-14T16:57:00.366779",
     "status": "completed"
    },
    "tags": []
   },
   "outputs": [],
   "source": [
    "powerlifting_meets = pd.read_csv(\"../input/powerlifting-database/meets.csv\")\n",
    "powerlifting_competitors = pd.read_csv(\"../input/powerlifting-database/openpowerlifting.csv\")"
   ]
  },
  {
   "cell_type": "markdown",
   "id": "dae3406d",
   "metadata": {
    "papermill": {
     "duration": 0.007868,
     "end_time": "2023-01-14T16:57:01.338344",
     "exception": false,
     "start_time": "2023-01-14T16:57:01.330476",
     "status": "completed"
    },
    "tags": []
   },
   "source": [
    "Both tables include references to a `MeetID`, a unique key for each meet (competition) included in the database. Using this, generate a dataset combining the two tables into one."
   ]
  },
  {
   "cell_type": "code",
   "execution_count": 11,
   "id": "b199dc54",
   "metadata": {
    "execution": {
     "iopub.execute_input": "2023-01-14T16:57:01.354967Z",
     "iopub.status.busy": "2023-01-14T16:57:01.353586Z",
     "iopub.status.idle": "2023-01-14T16:57:02.494764Z",
     "shell.execute_reply": "2023-01-14T16:57:02.493856Z"
    },
    "papermill": {
     "duration": 1.151901,
     "end_time": "2023-01-14T16:57:02.497148",
     "exception": false,
     "start_time": "2023-01-14T16:57:01.345247",
     "status": "completed"
    },
    "tags": []
   },
   "outputs": [
    {
     "data": {
      "application/javascript": [
       "parent.postMessage({\"jupyterEvent\": \"custom.exercise_interaction\", \"data\": {\"outcomeType\": 1, \"valueTowardsCompletion\": 0.25, \"interactionType\": 1, \"questionType\": 2, \"questionId\": \"4_JoinLifting\", \"learnToolsVersion\": \"0.3.4\", \"failureMessage\": \"\", \"exceptionClass\": \"\", \"trace\": \"\"}}, \"*\")"
      ],
      "text/plain": [
       "<IPython.core.display.Javascript object>"
      ]
     },
     "metadata": {},
     "output_type": "display_data"
    },
    {
     "data": {
      "text/markdown": [
       "<span style=\"color:#33cc33\">Correct</span>"
      ],
      "text/plain": [
       "Correct"
      ]
     },
     "metadata": {},
     "output_type": "display_data"
    }
   ],
   "source": [
    "powerlifting_combined = powerlifting_meets.set_index(\"MeetID\").join(powerlifting_competitors.set_index(\"MeetID\"))\n",
    "\n",
    "# Check your answer\n",
    "q4.check()"
   ]
  },
  {
   "cell_type": "code",
   "execution_count": 12,
   "id": "cb608ca4",
   "metadata": {
    "execution": {
     "iopub.execute_input": "2023-01-14T16:57:02.513606Z",
     "iopub.status.busy": "2023-01-14T16:57:02.512459Z",
     "iopub.status.idle": "2023-01-14T16:57:02.517303Z",
     "shell.execute_reply": "2023-01-14T16:57:02.516280Z"
    },
    "papermill": {
     "duration": 0.01555,
     "end_time": "2023-01-14T16:57:02.519668",
     "exception": false,
     "start_time": "2023-01-14T16:57:02.504118",
     "status": "completed"
    },
    "tags": []
   },
   "outputs": [],
   "source": [
    "#q4.hint()\n",
    "#q4.solution()"
   ]
  },
  {
   "cell_type": "markdown",
   "id": "820a8bb1",
   "metadata": {
    "papermill": {
     "duration": 0.006949,
     "end_time": "2023-01-14T16:57:02.534002",
     "exception": false,
     "start_time": "2023-01-14T16:57:02.527053",
     "status": "completed"
    },
    "tags": []
   },
   "source": [
    "# Congratulations!\n",
    "\n",
    "You've finished the Pandas micro-course.  Many data scientists feel efficiency with Pandas is the most useful and practical skill they have, because it allows you to progress quickly in any project you have.\n",
    "\n",
    "If you'd like to apply your new skills to examining geospatial data, you're encouraged to check out our **[Geospatial Analysis](https://www.kaggle.com/learn/geospatial-analysis)** micro-course.\n",
    "\n",
    "You can also take advantage of your Pandas skills by entering a **[Kaggle Competition](https://www.kaggle.com/competitions)** or by answering a question you find interesting using **[Kaggle Datasets](https://www.kaggle.com/datasets)**."
   ]
  },
  {
   "cell_type": "markdown",
   "id": "397f3b7e",
   "metadata": {
    "papermill": {
     "duration": 0.006311,
     "end_time": "2023-01-14T16:57:02.547004",
     "exception": false,
     "start_time": "2023-01-14T16:57:02.540693",
     "status": "completed"
    },
    "tags": []
   },
   "source": [
    "---\n",
    "\n",
    "\n",
    "\n",
    "\n",
    "*Have questions or comments? Visit the [course discussion forum](https://www.kaggle.com/learn/pandas/discussion) to chat with other learners.*"
   ]
  }
 ],
 "metadata": {
  "kernelspec": {
   "display_name": "Python 3",
   "language": "python",
   "name": "python3"
  },
  "language_info": {
   "codemirror_mode": {
    "name": "ipython",
    "version": 3
   },
   "file_extension": ".py",
   "mimetype": "text/x-python",
   "name": "python",
   "nbconvert_exporter": "python",
   "pygments_lexer": "ipython3",
   "version": "3.7.12"
  },
  "papermill": {
   "default_parameters": {},
   "duration": 16.963684,
   "end_time": "2023-01-14T16:57:03.478188",
   "environment_variables": {},
   "exception": null,
   "input_path": "__notebook__.ipynb",
   "output_path": "__notebook__.ipynb",
   "parameters": {},
   "start_time": "2023-01-14T16:56:46.514504",
   "version": "2.3.4"
  }
 },
 "nbformat": 4,
 "nbformat_minor": 5
}
