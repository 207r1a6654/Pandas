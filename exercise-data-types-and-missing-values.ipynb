{
 "cells": [
  {
   "cell_type": "markdown",
   "id": "0e594928",
   "metadata": {
    "papermill": {
     "duration": 0.005449,
     "end_time": "2023-01-14T16:41:35.557129",
     "exception": false,
     "start_time": "2023-01-14T16:41:35.551680",
     "status": "completed"
    },
    "tags": []
   },
   "source": [
    "**This notebook is an exercise in the [Pandas](https://www.kaggle.com/learn/pandas) course.  You can reference the tutorial at [this link](https://www.kaggle.com/residentmario/data-types-and-missing-values).**\n",
    "\n",
    "---\n"
   ]
  },
  {
   "cell_type": "markdown",
   "id": "62ef373b",
   "metadata": {
    "papermill": {
     "duration": 0.003849,
     "end_time": "2023-01-14T16:41:35.565295",
     "exception": false,
     "start_time": "2023-01-14T16:41:35.561446",
     "status": "completed"
    },
    "tags": []
   },
   "source": [
    "# Introduction\n",
    "\n",
    "Run the following cell to load your data and some utility functions."
   ]
  },
  {
   "cell_type": "code",
   "execution_count": 1,
   "id": "6f45c38a",
   "metadata": {
    "execution": {
     "iopub.execute_input": "2023-01-14T16:41:35.575702Z",
     "iopub.status.busy": "2023-01-14T16:41:35.574927Z",
     "iopub.status.idle": "2023-01-14T16:41:38.577086Z",
     "shell.execute_reply": "2023-01-14T16:41:38.575812Z"
    },
    "papermill": {
     "duration": 3.011173,
     "end_time": "2023-01-14T16:41:38.580498",
     "exception": false,
     "start_time": "2023-01-14T16:41:35.569325",
     "status": "completed"
    },
    "tags": []
   },
   "outputs": [
    {
     "name": "stdout",
     "output_type": "stream",
     "text": [
      "Setup complete.\n"
     ]
    }
   ],
   "source": [
    "import pandas as pd\n",
    "\n",
    "reviews = pd.read_csv(\"../input/wine-reviews/winemag-data-130k-v2.csv\", index_col=0)\n",
    "\n",
    "from learntools.core import binder; binder.bind(globals())\n",
    "from learntools.pandas.data_types_and_missing_data import *\n",
    "print(\"Setup complete.\")"
   ]
  },
  {
   "cell_type": "markdown",
   "id": "e60f52c4",
   "metadata": {
    "papermill": {
     "duration": 0.004079,
     "end_time": "2023-01-14T16:41:38.589153",
     "exception": false,
     "start_time": "2023-01-14T16:41:38.585074",
     "status": "completed"
    },
    "tags": []
   },
   "source": [
    "# Exercises"
   ]
  },
  {
   "cell_type": "markdown",
   "id": "18ed8a60",
   "metadata": {
    "papermill": {
     "duration": 0.004429,
     "end_time": "2023-01-14T16:41:38.598430",
     "exception": false,
     "start_time": "2023-01-14T16:41:38.594001",
     "status": "completed"
    },
    "tags": []
   },
   "source": [
    "## 1. \n",
    "What is the data type of the `points` column in the dataset?"
   ]
  },
  {
   "cell_type": "code",
   "execution_count": 2,
   "id": "23deca11",
   "metadata": {
    "execution": {
     "iopub.execute_input": "2023-01-14T16:41:38.608728Z",
     "iopub.status.busy": "2023-01-14T16:41:38.608306Z",
     "iopub.status.idle": "2023-01-14T16:41:38.621042Z",
     "shell.execute_reply": "2023-01-14T16:41:38.619957Z"
    },
    "papermill": {
     "duration": 0.020501,
     "end_time": "2023-01-14T16:41:38.623229",
     "exception": false,
     "start_time": "2023-01-14T16:41:38.602728",
     "status": "completed"
    },
    "tags": []
   },
   "outputs": [
    {
     "data": {
      "application/javascript": [
       "parent.postMessage({\"jupyterEvent\": \"custom.exercise_interaction\", \"data\": {\"outcomeType\": 1, \"valueTowardsCompletion\": 0.25, \"interactionType\": 1, \"questionType\": 1, \"questionId\": \"1_PointsDtype\", \"learnToolsVersion\": \"0.3.4\", \"failureMessage\": \"\", \"exceptionClass\": \"\", \"trace\": \"\"}}, \"*\")"
      ],
      "text/plain": [
       "<IPython.core.display.Javascript object>"
      ]
     },
     "metadata": {},
     "output_type": "display_data"
    },
    {
     "data": {
      "text/markdown": [
       "<span style=\"color:#33cc33\">Correct</span>"
      ],
      "text/plain": [
       "Correct"
      ]
     },
     "metadata": {},
     "output_type": "display_data"
    }
   ],
   "source": [
    "# Your code here\n",
    "dtype = reviews.points.dtype\n",
    "\n",
    "# Check your answer\n",
    "q1.check()"
   ]
  },
  {
   "cell_type": "code",
   "execution_count": 3,
   "id": "baa92b5d",
   "metadata": {
    "execution": {
     "iopub.execute_input": "2023-01-14T16:41:38.634440Z",
     "iopub.status.busy": "2023-01-14T16:41:38.633569Z",
     "iopub.status.idle": "2023-01-14T16:41:38.638951Z",
     "shell.execute_reply": "2023-01-14T16:41:38.637728Z"
    },
    "papermill": {
     "duration": 0.013422,
     "end_time": "2023-01-14T16:41:38.641293",
     "exception": false,
     "start_time": "2023-01-14T16:41:38.627871",
     "status": "completed"
    },
    "tags": []
   },
   "outputs": [],
   "source": [
    "#q1.hint()\n",
    "#q1.solution()"
   ]
  },
  {
   "cell_type": "markdown",
   "id": "694dcfde",
   "metadata": {
    "papermill": {
     "duration": 0.004466,
     "end_time": "2023-01-14T16:41:38.650583",
     "exception": false,
     "start_time": "2023-01-14T16:41:38.646117",
     "status": "completed"
    },
    "tags": []
   },
   "source": [
    "## 2. \n",
    "Create a Series from entries in the `points` column, but convert the entries to strings. Hint: strings are `str` in native Python."
   ]
  },
  {
   "cell_type": "code",
   "execution_count": 4,
   "id": "5084ebe7",
   "metadata": {
    "execution": {
     "iopub.execute_input": "2023-01-14T16:41:38.662522Z",
     "iopub.status.busy": "2023-01-14T16:41:38.661509Z",
     "iopub.status.idle": "2023-01-14T16:41:38.750180Z",
     "shell.execute_reply": "2023-01-14T16:41:38.749063Z"
    },
    "papermill": {
     "duration": 0.097438,
     "end_time": "2023-01-14T16:41:38.752786",
     "exception": false,
     "start_time": "2023-01-14T16:41:38.655348",
     "status": "completed"
    },
    "tags": []
   },
   "outputs": [
    {
     "data": {
      "application/javascript": [
       "parent.postMessage({\"jupyterEvent\": \"custom.exercise_interaction\", \"data\": {\"outcomeType\": 1, \"valueTowardsCompletion\": 0.25, \"interactionType\": 1, \"questionType\": 1, \"questionId\": \"2_StrPoints\", \"learnToolsVersion\": \"0.3.4\", \"failureMessage\": \"\", \"exceptionClass\": \"\", \"trace\": \"\"}}, \"*\")"
      ],
      "text/plain": [
       "<IPython.core.display.Javascript object>"
      ]
     },
     "metadata": {},
     "output_type": "display_data"
    },
    {
     "data": {
      "text/markdown": [
       "<span style=\"color:#33cc33\">Correct</span>"
      ],
      "text/plain": [
       "Correct"
      ]
     },
     "metadata": {},
     "output_type": "display_data"
    }
   ],
   "source": [
    "point_strings = reviews.points.astype('str')\n",
    "\n",
    "# Check your answer\n",
    "q2.check()"
   ]
  },
  {
   "cell_type": "code",
   "execution_count": 5,
   "id": "91a96ea1",
   "metadata": {
    "execution": {
     "iopub.execute_input": "2023-01-14T16:41:38.765183Z",
     "iopub.status.busy": "2023-01-14T16:41:38.764729Z",
     "iopub.status.idle": "2023-01-14T16:41:38.769924Z",
     "shell.execute_reply": "2023-01-14T16:41:38.768782Z"
    },
    "papermill": {
     "duration": 0.014255,
     "end_time": "2023-01-14T16:41:38.772375",
     "exception": false,
     "start_time": "2023-01-14T16:41:38.758120",
     "status": "completed"
    },
    "tags": []
   },
   "outputs": [],
   "source": [
    "#q2.hint()\n",
    "#q2.solution()"
   ]
  },
  {
   "cell_type": "markdown",
   "id": "73d91e8c",
   "metadata": {
    "papermill": {
     "duration": 0.004701,
     "end_time": "2023-01-14T16:41:38.782167",
     "exception": false,
     "start_time": "2023-01-14T16:41:38.777466",
     "status": "completed"
    },
    "tags": []
   },
   "source": [
    "## 3.\n",
    "Sometimes the price column is null. How many reviews in the dataset are missing a price?"
   ]
  },
  {
   "cell_type": "code",
   "execution_count": 6,
   "id": "6c58f450",
   "metadata": {
    "execution": {
     "iopub.execute_input": "2023-01-14T16:41:38.794553Z",
     "iopub.status.busy": "2023-01-14T16:41:38.793348Z",
     "iopub.status.idle": "2023-01-14T16:41:38.813448Z",
     "shell.execute_reply": "2023-01-14T16:41:38.812300Z"
    },
    "papermill": {
     "duration": 0.028954,
     "end_time": "2023-01-14T16:41:38.816063",
     "exception": false,
     "start_time": "2023-01-14T16:41:38.787109",
     "status": "completed"
    },
    "tags": []
   },
   "outputs": [
    {
     "data": {
      "application/javascript": [
       "parent.postMessage({\"jupyterEvent\": \"custom.exercise_interaction\", \"data\": {\"outcomeType\": 1, \"valueTowardsCompletion\": 0.25, \"interactionType\": 1, \"questionType\": 1, \"questionId\": \"3_CountMissingPrices\", \"learnToolsVersion\": \"0.3.4\", \"failureMessage\": \"\", \"exceptionClass\": \"\", \"trace\": \"\"}}, \"*\")"
      ],
      "text/plain": [
       "<IPython.core.display.Javascript object>"
      ]
     },
     "metadata": {},
     "output_type": "display_data"
    },
    {
     "data": {
      "text/markdown": [
       "<span style=\"color:#33cc33\">Correct</span>"
      ],
      "text/plain": [
       "Correct"
      ]
     },
     "metadata": {},
     "output_type": "display_data"
    }
   ],
   "source": [
    "missing_price_reviews = reviews[reviews.price.isnull()]\n",
    "n_missing_prices = len(missing_price_reviews)\n",
    "# Cute alternative solution: if we sum a boolean series, True is treated as 1 and False as 0\n",
    "n_missing_prices = reviews.price.isnull().sum()\n",
    "# or equivalently:\n",
    "n_missing_prices = pd.isnull(reviews.price).sum()\n",
    "# Check your answer\n",
    "q3.check()"
   ]
  },
  {
   "cell_type": "code",
   "execution_count": 7,
   "id": "e5bd0c30",
   "metadata": {
    "execution": {
     "iopub.execute_input": "2023-01-14T16:41:38.828500Z",
     "iopub.status.busy": "2023-01-14T16:41:38.827839Z",
     "iopub.status.idle": "2023-01-14T16:41:38.833774Z",
     "shell.execute_reply": "2023-01-14T16:41:38.832260Z"
    },
    "papermill": {
     "duration": 0.014844,
     "end_time": "2023-01-14T16:41:38.836252",
     "exception": false,
     "start_time": "2023-01-14T16:41:38.821408",
     "status": "completed"
    },
    "tags": []
   },
   "outputs": [],
   "source": [
    "#q3.hint()\n",
    "#q3.solution()"
   ]
  },
  {
   "cell_type": "markdown",
   "id": "feecc477",
   "metadata": {
    "papermill": {
     "duration": 0.005219,
     "end_time": "2023-01-14T16:41:38.847207",
     "exception": false,
     "start_time": "2023-01-14T16:41:38.841988",
     "status": "completed"
    },
    "tags": []
   },
   "source": [
    "## 4.\n",
    "What are the most common wine-producing regions? Create a Series counting the number of times each value occurs in the `region_1` field. This field is often missing data, so replace missing values with `Unknown`. Sort in descending order.  Your output should look something like this:\n",
    "\n",
    "```\n",
    "Unknown                    21247\n",
    "Napa Valley                 4480\n",
    "                           ...  \n",
    "Bardolino Superiore            1\n",
    "Primitivo del Tarantino        1\n",
    "Name: region_1, Length: 1230, dtype: int64\n",
    "```"
   ]
  },
  {
   "cell_type": "code",
   "execution_count": 8,
   "id": "9829d9bd",
   "metadata": {
    "execution": {
     "iopub.execute_input": "2023-01-14T16:41:38.861360Z",
     "iopub.status.busy": "2023-01-14T16:41:38.860970Z",
     "iopub.status.idle": "2023-01-14T16:41:38.907450Z",
     "shell.execute_reply": "2023-01-14T16:41:38.906323Z"
    },
    "papermill": {
     "duration": 0.056779,
     "end_time": "2023-01-14T16:41:38.909585",
     "exception": false,
     "start_time": "2023-01-14T16:41:38.852806",
     "status": "completed"
    },
    "tags": []
   },
   "outputs": [
    {
     "data": {
      "application/javascript": [
       "parent.postMessage({\"jupyterEvent\": \"custom.exercise_interaction\", \"data\": {\"outcomeType\": 1, \"valueTowardsCompletion\": 0.25, \"interactionType\": 1, \"questionType\": 2, \"questionId\": \"4_ReviewsPerRegion\", \"learnToolsVersion\": \"0.3.4\", \"failureMessage\": \"\", \"exceptionClass\": \"\", \"trace\": \"\"}}, \"*\")"
      ],
      "text/plain": [
       "<IPython.core.display.Javascript object>"
      ]
     },
     "metadata": {},
     "output_type": "display_data"
    },
    {
     "data": {
      "text/markdown": [
       "<span style=\"color:#33cc33\">Correct</span>"
      ],
      "text/plain": [
       "Correct"
      ]
     },
     "metadata": {},
     "output_type": "display_data"
    }
   ],
   "source": [
    "reviews_per_region = reviews.region_1.fillna('Unknown').value_counts().sort_values(ascending=False)\n",
    "\n",
    "# Check your answer\n",
    "q4.check()"
   ]
  },
  {
   "cell_type": "code",
   "execution_count": 9,
   "id": "ad1cde8c",
   "metadata": {
    "execution": {
     "iopub.execute_input": "2023-01-14T16:41:38.922686Z",
     "iopub.status.busy": "2023-01-14T16:41:38.922075Z",
     "iopub.status.idle": "2023-01-14T16:41:38.927317Z",
     "shell.execute_reply": "2023-01-14T16:41:38.926000Z"
    },
    "papermill": {
     "duration": 0.014707,
     "end_time": "2023-01-14T16:41:38.929990",
     "exception": false,
     "start_time": "2023-01-14T16:41:38.915283",
     "status": "completed"
    },
    "tags": []
   },
   "outputs": [],
   "source": [
    "#q4.hint()\n",
    "#q4.solution()"
   ]
  },
  {
   "cell_type": "markdown",
   "id": "f7cbed7a",
   "metadata": {
    "papermill": {
     "duration": 0.005392,
     "end_time": "2023-01-14T16:41:38.941668",
     "exception": false,
     "start_time": "2023-01-14T16:41:38.936276",
     "status": "completed"
    },
    "tags": []
   },
   "source": [
    "# Keep going\n",
    "\n",
    "Move on to **[renaming and combining](https://www.kaggle.com/residentmario/renaming-and-combining)**."
   ]
  },
  {
   "cell_type": "markdown",
   "id": "a144b087",
   "metadata": {
    "papermill": {
     "duration": 0.005898,
     "end_time": "2023-01-14T16:41:38.953562",
     "exception": false,
     "start_time": "2023-01-14T16:41:38.947664",
     "status": "completed"
    },
    "tags": []
   },
   "source": [
    "---\n",
    "\n",
    "\n",
    "\n",
    "\n",
    "*Have questions or comments? Visit the [course discussion forum](https://www.kaggle.com/learn/pandas/discussion) to chat with other learners.*"
   ]
  }
 ],
 "metadata": {
  "kernelspec": {
   "display_name": "Python 3",
   "language": "python",
   "name": "python3"
  },
  "language_info": {
   "codemirror_mode": {
    "name": "ipython",
    "version": 3
   },
   "file_extension": ".py",
   "mimetype": "text/x-python",
   "name": "python",
   "nbconvert_exporter": "python",
   "pygments_lexer": "ipython3",
   "version": "3.7.12"
  },
  "papermill": {
   "default_parameters": {},
   "duration": 13.075726,
   "end_time": "2023-01-14T16:41:39.682175",
   "environment_variables": {},
   "exception": null,
   "input_path": "__notebook__.ipynb",
   "output_path": "__notebook__.ipynb",
   "parameters": {},
   "start_time": "2023-01-14T16:41:26.606449",
   "version": "2.3.4"
  }
 },
 "nbformat": 4,
 "nbformat_minor": 5
}
